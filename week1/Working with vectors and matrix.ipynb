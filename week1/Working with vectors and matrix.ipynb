{
 "cells": [
  {
   "cell_type": "code",
   "execution_count": 1,
   "metadata": {
    "collapsed": true
   },
   "outputs": [],
   "source": [
    "import numpy as np"
   ]
  },
  {
   "cell_type": "code",
   "execution_count": 2,
   "metadata": {
    "collapsed": false
   },
   "outputs": [
    {
     "name": "stdout",
     "output_type": "stream",
     "text": [
      "[[  2.79271702 -14.8471058    8.01128229 ...,   6.15222658  15.22713697\n",
      "   15.43069883]\n",
      " [-14.65135316  10.3637282   -9.20252277 ...,   0.04371476  -7.49485562\n",
      "   17.71162128]\n",
      " [ 23.88993414   6.25764267   5.34010644 ...,  -9.16954294   3.46478363\n",
      "   10.3991795 ]\n",
      " ..., \n",
      " [-11.33941942  -9.57203307  13.03256267 ...,   9.91585098  -7.26831049\n",
      "   13.48506513]\n",
      " [ -2.07897313  18.97850136   5.80416123 ...,   5.24185785  -0.63388405\n",
      "    3.57519544]\n",
      " [-22.24507705  -5.87426815  -7.29016995 ...,  -2.87561295   0.54378982\n",
      "   14.90291363]]\n"
     ]
    }
   ],
   "source": [
    "X = np.random.normal(loc=1, scale=10, size=(1000, 50))\n",
    "print X"
   ]
  },
  {
   "cell_type": "code",
   "execution_count": 3,
   "metadata": {
    "collapsed": false
   },
   "outputs": [
    {
     "name": "stdout",
     "output_type": "stream",
     "text": [
      "[[ 0.18370413 -1.5091566   0.71351858 ...,  0.58567749  1.38176763\n",
      "   1.44807277]\n",
      " [-1.51265783  0.90323342 -1.01066136 ..., -0.00554487 -0.86686269\n",
      "   1.67572659]\n",
      " [ 2.23531915  0.51032774  0.44596659 ..., -0.89726517  0.21773309\n",
      "   0.94588798]\n",
      " ..., \n",
      " [-1.1905863  -1.00439215  1.21646321 ...,  0.94994606 -0.84444316\n",
      "   1.25388338]\n",
      " [-0.29004711  1.72756921  0.49244753 ...,  0.49756595 -0.18788224\n",
      "   0.26480125]\n",
      " [-2.25111532 -0.65055811 -0.81911508 ..., -0.2880968  -0.07133642\n",
      "   1.3953957 ]]\n"
     ]
    }
   ],
   "source": [
    "m = np.mean(X, axis=0)\n",
    "std = np.std(X, axis=0)\n",
    "X_norm = ((X - m)  / std)\n",
    "print X_norm"
   ]
  },
  {
   "cell_type": "code",
   "execution_count": 4,
   "metadata": {
    "collapsed": true
   },
   "outputs": [],
   "source": [
    "Z = np.array([[4, 5, 0], \n",
    "             [1, 9, 3],              \n",
    "             [5, 1, 1],\n",
    "             [3, 3, 3], \n",
    "             [9, 9, 9], \n",
    "             [4, 7, 1]])"
   ]
  },
  {
   "cell_type": "code",
   "execution_count": 5,
   "metadata": {
    "collapsed": false
   },
   "outputs": [
    {
     "name": "stdout",
     "output_type": "stream",
     "text": [
      "(array([1, 4, 5]),)\n"
     ]
    }
   ],
   "source": [
    "r = np.sum(Z, axis=1)\n",
    "print np.nonzero(r > 10)"
   ]
  },
  {
   "cell_type": "code",
   "execution_count": 6,
   "metadata": {
    "collapsed": false
   },
   "outputs": [
    {
     "name": "stdout",
     "output_type": "stream",
     "text": [
      "[[ 1.  0.  0.]\n",
      " [ 0.  1.  0.]\n",
      " [ 0.  0.  1.]]\n",
      "[[ 1.  0.  0.]\n",
      " [ 0.  1.  0.]\n",
      " [ 0.  0.  1.]]\n"
     ]
    }
   ],
   "source": [
    "A = np.eye(3)\n",
    "B = np.eye(3)\n",
    "print A\n",
    "print B"
   ]
  },
  {
   "cell_type": "code",
   "execution_count": 7,
   "metadata": {
    "collapsed": false
   },
   "outputs": [
    {
     "name": "stdout",
     "output_type": "stream",
     "text": [
      "[[ 1.  0.  0.]\n",
      " [ 0.  1.  0.]\n",
      " [ 0.  0.  1.]\n",
      " [ 1.  0.  0.]\n",
      " [ 0.  1.  0.]\n",
      " [ 0.  0.  1.]]\n"
     ]
    }
   ],
   "source": [
    "AB = np.vstack((A, B))\n",
    "print AB"
   ]
  },
  {
   "cell_type": "code",
   "execution_count": null,
   "metadata": {
    "collapsed": true
   },
   "outputs": [],
   "source": []
  }
 ],
 "metadata": {
  "kernelspec": {
   "display_name": "Python 2",
   "language": "python",
   "name": "python2"
  },
  "language_info": {
   "codemirror_mode": {
    "name": "ipython",
    "version": 2
   },
   "file_extension": ".py",
   "mimetype": "text/x-python",
   "name": "python",
   "nbconvert_exporter": "python",
   "pygments_lexer": "ipython2",
   "version": "2.7.10"
  }
 },
 "nbformat": 4,
 "nbformat_minor": 0
}

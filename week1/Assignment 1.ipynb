{
 "cells": [
  {
   "cell_type": "code",
   "execution_count": 1,
   "metadata": {
    "collapsed": true
   },
   "outputs": [],
   "source": [
    "import pandas as pd"
   ]
  },
  {
   "cell_type": "code",
   "execution_count": 2,
   "metadata": {
    "collapsed": true
   },
   "outputs": [],
   "source": [
    "import numpy as np"
   ]
  },
  {
   "cell_type": "code",
   "execution_count": 4,
   "metadata": {
    "collapsed": false
   },
   "outputs": [],
   "source": [
    "df = pd.read_csv('titanic.csv',  index_col='PassengerId')"
   ]
  },
  {
   "cell_type": "code",
   "execution_count": 5,
   "metadata": {
    "collapsed": false
   },
   "outputs": [
    {
     "data": {
      "text/html": [
       "<div>\n",
       "<table border=\"1\" class=\"dataframe\">\n",
       "  <thead>\n",
       "    <tr style=\"text-align: right;\">\n",
       "      <th></th>\n",
       "      <th>Survived</th>\n",
       "      <th>Pclass</th>\n",
       "      <th>Name</th>\n",
       "      <th>Sex</th>\n",
       "      <th>Age</th>\n",
       "      <th>SibSp</th>\n",
       "      <th>Parch</th>\n",
       "      <th>Ticket</th>\n",
       "      <th>Fare</th>\n",
       "      <th>Cabin</th>\n",
       "      <th>Embarked</th>\n",
       "    </tr>\n",
       "    <tr>\n",
       "      <th>PassengerId</th>\n",
       "      <th></th>\n",
       "      <th></th>\n",
       "      <th></th>\n",
       "      <th></th>\n",
       "      <th></th>\n",
       "      <th></th>\n",
       "      <th></th>\n",
       "      <th></th>\n",
       "      <th></th>\n",
       "      <th></th>\n",
       "      <th></th>\n",
       "    </tr>\n",
       "  </thead>\n",
       "  <tbody>\n",
       "    <tr>\n",
       "      <th>1</th>\n",
       "      <td>0</td>\n",
       "      <td>3</td>\n",
       "      <td>Braund, Mr. Owen Harris</td>\n",
       "      <td>male</td>\n",
       "      <td>22</td>\n",
       "      <td>1</td>\n",
       "      <td>0</td>\n",
       "      <td>A/5 21171</td>\n",
       "      <td>7.2500</td>\n",
       "      <td>NaN</td>\n",
       "      <td>S</td>\n",
       "    </tr>\n",
       "    <tr>\n",
       "      <th>2</th>\n",
       "      <td>1</td>\n",
       "      <td>1</td>\n",
       "      <td>Cumings, Mrs. John Bradley (Florence Briggs Th...</td>\n",
       "      <td>female</td>\n",
       "      <td>38</td>\n",
       "      <td>1</td>\n",
       "      <td>0</td>\n",
       "      <td>PC 17599</td>\n",
       "      <td>71.2833</td>\n",
       "      <td>C85</td>\n",
       "      <td>C</td>\n",
       "    </tr>\n",
       "    <tr>\n",
       "      <th>3</th>\n",
       "      <td>1</td>\n",
       "      <td>3</td>\n",
       "      <td>Heikkinen, Miss. Laina</td>\n",
       "      <td>female</td>\n",
       "      <td>26</td>\n",
       "      <td>0</td>\n",
       "      <td>0</td>\n",
       "      <td>STON/O2. 3101282</td>\n",
       "      <td>7.9250</td>\n",
       "      <td>NaN</td>\n",
       "      <td>S</td>\n",
       "    </tr>\n",
       "    <tr>\n",
       "      <th>4</th>\n",
       "      <td>1</td>\n",
       "      <td>1</td>\n",
       "      <td>Futrelle, Mrs. Jacques Heath (Lily May Peel)</td>\n",
       "      <td>female</td>\n",
       "      <td>35</td>\n",
       "      <td>1</td>\n",
       "      <td>0</td>\n",
       "      <td>113803</td>\n",
       "      <td>53.1000</td>\n",
       "      <td>C123</td>\n",
       "      <td>S</td>\n",
       "    </tr>\n",
       "    <tr>\n",
       "      <th>5</th>\n",
       "      <td>0</td>\n",
       "      <td>3</td>\n",
       "      <td>Allen, Mr. William Henry</td>\n",
       "      <td>male</td>\n",
       "      <td>35</td>\n",
       "      <td>0</td>\n",
       "      <td>0</td>\n",
       "      <td>373450</td>\n",
       "      <td>8.0500</td>\n",
       "      <td>NaN</td>\n",
       "      <td>S</td>\n",
       "    </tr>\n",
       "  </tbody>\n",
       "</table>\n",
       "</div>"
      ],
      "text/plain": [
       "             Survived  Pclass  \\\n",
       "PassengerId                     \n",
       "1                   0       3   \n",
       "2                   1       1   \n",
       "3                   1       3   \n",
       "4                   1       1   \n",
       "5                   0       3   \n",
       "\n",
       "                                                          Name     Sex  Age  \\\n",
       "PassengerId                                                                   \n",
       "1                                      Braund, Mr. Owen Harris    male   22   \n",
       "2            Cumings, Mrs. John Bradley (Florence Briggs Th...  female   38   \n",
       "3                                       Heikkinen, Miss. Laina  female   26   \n",
       "4                 Futrelle, Mrs. Jacques Heath (Lily May Peel)  female   35   \n",
       "5                                     Allen, Mr. William Henry    male   35   \n",
       "\n",
       "             SibSp  Parch            Ticket     Fare Cabin Embarked  \n",
       "PassengerId                                                          \n",
       "1                1      0         A/5 21171   7.2500   NaN        S  \n",
       "2                1      0          PC 17599  71.2833   C85        C  \n",
       "3                0      0  STON/O2. 3101282   7.9250   NaN        S  \n",
       "4                1      0            113803  53.1000  C123        S  \n",
       "5                0      0            373450   8.0500   NaN        S  "
      ]
     },
     "execution_count": 5,
     "metadata": {},
     "output_type": "execute_result"
    }
   ],
   "source": [
    "df.head()"
   ]
  },
  {
   "cell_type": "markdown",
   "metadata": {},
   "source": [
    "#1 Какое количество мужчин и женщин ехало на корабле? В качестве ответа приведите два числа через пробел."
   ]
  },
  {
   "cell_type": "code",
   "execution_count": 6,
   "metadata": {
    "collapsed": false
   },
   "outputs": [
    {
     "data": {
      "text/plain": [
       "male      577\n",
       "female    314\n",
       "dtype: int64"
      ]
     },
     "execution_count": 6,
     "metadata": {},
     "output_type": "execute_result"
    }
   ],
   "source": [
    "df['Sex'].value_counts()"
   ]
  },
  {
   "cell_type": "markdown",
   "metadata": {},
   "source": [
    "#2 Какой части пассажиров удалось выжить? Посчитайте долю выживших пассажиров. Ответ приведите в процентах (число в интервале от 0 до 100, знак процента не нужен)"
   ]
  },
  {
   "cell_type": "code",
   "execution_count": 31,
   "metadata": {
    "collapsed": false
   },
   "outputs": [
    {
     "name": "stdout",
     "output_type": "stream",
     "text": [
      "0    549\n",
      "1    342\n",
      "dtype: int64\n"
     ]
    },
    {
     "data": {
      "text/plain": [
       "38.38383838383838"
      ]
     },
     "execution_count": 31,
     "metadata": {},
     "output_type": "execute_result"
    }
   ],
   "source": [
    "print df['Survived'].value_counts()\n",
    "\n",
    "100 * 342./(549 + 342)"
   ]
  },
  {
   "cell_type": "markdown",
   "metadata": {},
   "source": [
    "#3 Какую долю пассажиры первого класса составляли среди всех пассажиров? Ответ приведите в процентах (число в интервале от 0 до 100, знак процента не нужен)."
   ]
  },
  {
   "cell_type": "code",
   "execution_count": 13,
   "metadata": {
    "collapsed": false
   },
   "outputs": [
    {
     "data": {
      "text/plain": [
       "3    55.106622\n",
       "1    24.242424\n",
       "2    20.650954\n",
       "dtype: float64"
      ]
     },
     "execution_count": 13,
     "metadata": {},
     "output_type": "execute_result"
    }
   ],
   "source": [
    "100 * df['Pclass'].value_counts() / float(df.shape[0])"
   ]
  },
  {
   "cell_type": "markdown",
   "metadata": {},
   "source": [
    "#4 Какого возраста были пассажиры? Посчитайте среднее и медиану возраста пассажиров. В качестве ответа приведите два числа через пробел."
   ]
  },
  {
   "cell_type": "code",
   "execution_count": 37,
   "metadata": {
    "collapsed": false
   },
   "outputs": [
    {
     "name": "stdout",
     "output_type": "stream",
     "text": [
      "29.70 32.00\n"
     ]
    }
   ],
   "source": [
    "a = np.mean(df['Age'])\n",
    "b = np.median(df['Age'])\n",
    "\n",
    "print \"%0.2f %0.2f\" % (a, b)"
   ]
  },
  {
   "cell_type": "code",
   "execution_count": 36,
   "metadata": {
    "collapsed": false
   },
   "outputs": [
    {
     "data": {
      "text/plain": [
       "32.0"
      ]
     },
     "execution_count": 36,
     "metadata": {},
     "output_type": "execute_result"
    }
   ],
   "source": [
    "np.median(df['Age'])"
   ]
  },
  {
   "cell_type": "markdown",
   "metadata": {},
   "source": [
    "#5 Коррелируют ли число братьев/сестер с числом родителей/детей? Посчитайте корреляцию Пирсона между признаками SibSp и Parch"
   ]
  },
  {
   "cell_type": "code",
   "execution_count": 18,
   "metadata": {
    "collapsed": true
   },
   "outputs": [],
   "source": [
    "import scipy.stats"
   ]
  },
  {
   "cell_type": "code",
   "execution_count": 20,
   "metadata": {
    "collapsed": false
   },
   "outputs": [
    {
     "data": {
      "text/plain": [
       "(0.41483769862015613, 2.2418236681397381e-38)"
      ]
     },
     "execution_count": 20,
     "metadata": {},
     "output_type": "execute_result"
    }
   ],
   "source": [
    "# Prints tuple (corrcoef, p-value)\n",
    "scipy.stats.pearsonr(df['SibSp'], df['Parch'])"
   ]
  },
  {
   "cell_type": "markdown",
   "metadata": {},
   "source": [
    "#6 Какое самое популярное женское имя на корабле? Извлеките из полного имени пассажира (колонка Name) его личное имя (First Name). Это задание — типичный пример того, с чем сталкивается специалист по анализу данных. Данные очень разнородные и шумные, но из них требуется извлечь необходимую информацию. Попробуйте вручную разобрать несколько значений столбца Name и выработать правило для извлечения имен, а также разделения их на женские и мужские."
   ]
  },
  {
   "cell_type": "code",
   "execution_count": 34,
   "metadata": {
    "collapsed": false
   },
   "outputs": [
    {
     "name": "stdout",
     "output_type": "stream",
     "text": [
      "PassengerId\n",
      "2      Cumings, Mrs. John Bradley (Florence Briggs Th...\n",
      "3                                 Heikkinen, Miss. Laina\n",
      "4           Futrelle, Mrs. Jacques Heath (Lily May Peel)\n",
      "9      Johnson, Mrs. Oscar W (Elisabeth Vilhelmina Berg)\n",
      "10                   Nasser, Mrs. Nicholas (Adele Achem)\n",
      "11                       Sandstrom, Miss. Marguerite Rut\n",
      "12                              Bonnell, Miss. Elizabeth\n",
      "15                  Vestrom, Miss. Hulda Amanda Adolfina\n",
      "16                      Hewlett, Mrs. (Mary D Kingcome) \n",
      "19     Vander Planke, Mrs. Julius (Emelia Maria Vande...\n",
      "20                               Masselmani, Mrs. Fatima\n",
      "23                           McGowan, Miss. Anna \"Annie\"\n",
      "25                         Palsson, Miss. Torborg Danira\n",
      "26     Asplund, Mrs. Carl Oscar (Selma Augusta Emilia...\n",
      "29                         O'Dwyer, Miss. Ellen \"Nellie\"\n",
      "32        Spencer, Mrs. William Augustus (Marie Eugenie)\n",
      "33                              Glynn, Miss. Mary Agatha\n",
      "39                    Vander Planke, Miss. Augusta Maria\n",
      "40                           Nicola-Yarred, Miss. Jamila\n",
      "41        Ahlin, Mrs. Johan (Johanna Persdotter Larsson)\n",
      "42     Turpin, Mrs. William John Robert (Dorothy Ann ...\n",
      "44              Laroche, Miss. Simonne Marie Anne Andree\n",
      "45                         Devaney, Miss. Margaret Delia\n",
      "48                             O'Driscoll, Miss. Bridget\n",
      "50         Arnold-Franchi, Mrs. Josef (Josefine Franchi)\n",
      "53              Harper, Mrs. Henry Sleeper (Myna Haxtun)\n",
      "54     Faunthorpe, Mrs. Lizzie (Elizabeth Anne Wilkin...\n",
      "57                                     Rugg, Miss. Emily\n",
      "59                          West, Miss. Constance Mirium\n",
      "62                                   Icard, Miss. Amelie\n",
      "                             ...                        \n",
      "808                      Pettersson, Miss. Ellen Natalia\n",
      "810       Chambers, Mrs. Norman Campbell (Bertha Griggs)\n",
      "814                   Andersson, Miss. Ebba Iris Alfrida\n",
      "817                         Heininen, Miss. Wendla Maria\n",
      "821    Hays, Mrs. Charles Melville (Clara Jennings Gr...\n",
      "824                                   Moor, Mrs. (Beila)\n",
      "830            Stone, Mrs. George Nelson (Martha Evelyn)\n",
      "831              Yasbeck, Mrs. Antoni (Selini Alexander)\n",
      "836                          Compton, Miss. Sara Rebecca\n",
      "843                              Serepeca, Miss. Augusta\n",
      "850         Goldenberg, Mrs. Samuel L (Edwiga Grabowska)\n",
      "853                              Boulos, Miss. Nourelain\n",
      "854                            Lines, Miss. Mary Conover\n",
      "855        Carter, Mrs. Ernest Courtenay (Lilian Hughes)\n",
      "856                           Aks, Mrs. Sam (Leah Rosen)\n",
      "857           Wick, Mrs. George Dennick (Mary Hitchcock)\n",
      "859                Baclini, Mrs. Solomon (Latifa Qurban)\n",
      "863    Swift, Mrs. Frederick Joel (Margaret Welles Ba...\n",
      "864                    Sage, Miss. Dorothy Edith \"Dolly\"\n",
      "866                             Bystrom, Mrs. (Karolina)\n",
      "867                         Duran y More, Miss. Asuncion\n",
      "872     Beckwith, Mrs. Richard Leonard (Sallie Monypeny)\n",
      "875                Abelson, Mrs. Samuel (Hannah Wizosky)\n",
      "876                     Najib, Miss. Adele Kiamie \"Jane\"\n",
      "880        Potter, Mrs. Thomas Jr (Lily Alexenia Wilson)\n",
      "881         Shelley, Mrs. William (Imanita Parrish Hall)\n",
      "883                         Dahlberg, Miss. Gerda Ulrika\n",
      "886                 Rice, Mrs. William (Margaret Norton)\n",
      "888                         Graham, Miss. Margaret Edith\n",
      "889             Johnston, Miss. Catherine Helen \"Carrie\"\n",
      "Name: Name, dtype: object\n"
     ]
    }
   ],
   "source": [
    "female_names = df[df['Sex'] == 'female']['Name']\n",
    "print female_names"
   ]
  },
  {
   "cell_type": "code",
   "execution_count": 25,
   "metadata": {
    "collapsed": false
   },
   "outputs": [],
   "source": [
    "first_name = female_names.apply(lambda s : s.strip().split(' ')[2])"
   ]
  },
  {
   "cell_type": "code",
   "execution_count": 28,
   "metadata": {
    "collapsed": false
   },
   "outputs": [
    {
     "data": {
      "text/plain": [
       "William      13\n",
       "Anna          9\n",
       "Mary          9\n",
       "Margaret      6\n",
       "Elizabeth     6\n",
       "John          6\n",
       "Thomas        6\n",
       "Frederick     5\n",
       "Alice         5\n",
       "Helen         4\n",
       "Ellen         4\n",
       "James         4\n",
       "Bertha        4\n",
       "Edward        4\n",
       "Mrs.          3\n",
       "Samuel        3\n",
       "Hanora        3\n",
       "Joseph        3\n",
       "Charles       3\n",
       "Kate          3\n",
       "Annie         3\n",
       "Katherine     3\n",
       "Henry         3\n",
       "Marion        2\n",
       "Marjorie      2\n",
       "Mabel         2\n",
       "George        2\n",
       "Emily         2\n",
       "Alexander     2\n",
       "Marija        2\n",
       "             ..\n",
       "Katie         1\n",
       "Amy           1\n",
       "Dorothy       1\n",
       "Hjalmar       1\n",
       "Dickinson     1\n",
       "Laura         1\n",
       "Hilda         1\n",
       "Norman        1\n",
       "Countess.     1\n",
       "Laina         1\n",
       "(Marion       1\n",
       "Kristina      1\n",
       "Adele         1\n",
       "(Lutie        1\n",
       "Helmina       1\n",
       "Ann           1\n",
       "Ethel         1\n",
       "Gerda         1\n",
       "Kornelia      1\n",
       "Harriet       1\n",
       "Carl          1\n",
       "Stella        1\n",
       "Jamila        1\n",
       "Nourelain     1\n",
       "Karl          1\n",
       "Eva           1\n",
       "Henriette     1\n",
       "Robina        1\n",
       "Jeannie       1\n",
       "Richard       1\n",
       "dtype: int64"
      ]
     },
     "execution_count": 28,
     "metadata": {},
     "output_type": "execute_result"
    }
   ],
   "source": [
    "first_name.value_counts()"
   ]
  },
  {
   "cell_type": "code",
   "execution_count": 38,
   "metadata": {
    "collapsed": false
   },
   "outputs": [
    {
     "data": {
      "text/plain": [
       "24.00    30\n",
       "22.00    27\n",
       "18.00    26\n",
       "28.00    25\n",
       "30.00    25\n",
       "19.00    25\n",
       "21.00    24\n",
       "25.00    23\n",
       "36.00    22\n",
       "29.00    20\n",
       "32.00    18\n",
       "35.00    18\n",
       "27.00    18\n",
       "26.00    18\n",
       "16.00    17\n",
       "31.00    17\n",
       "33.00    15\n",
       "20.00    15\n",
       "34.00    15\n",
       "23.00    15\n",
       "39.00    14\n",
       "17.00    13\n",
       "42.00    13\n",
       "40.00    13\n",
       "45.00    12\n",
       "38.00    11\n",
       "4.00     10\n",
       "50.00    10\n",
       "2.00     10\n",
       "47.00     9\n",
       "         ..\n",
       "40.50     2\n",
       "10.00     2\n",
       "13.00     2\n",
       "45.50     2\n",
       "64.00     2\n",
       "71.00     2\n",
       "70.00     2\n",
       "30.50     2\n",
       "0.83      2\n",
       "63.00     2\n",
       "59.00     2\n",
       "57.00     2\n",
       "55.00     2\n",
       "0.75      2\n",
       "0.42      1\n",
       "53.00     1\n",
       "70.50     1\n",
       "14.50     1\n",
       "0.92      1\n",
       "74.00     1\n",
       "36.50     1\n",
       "80.00     1\n",
       "12.00     1\n",
       "55.50     1\n",
       "34.50     1\n",
       "24.50     1\n",
       "66.00     1\n",
       "23.50     1\n",
       "0.67      1\n",
       "20.50     1\n",
       "dtype: int64"
      ]
     },
     "execution_count": 38,
     "metadata": {},
     "output_type": "execute_result"
    }
   ],
   "source": []
  },
  {
   "cell_type": "code",
   "execution_count": 39,
   "metadata": {
    "collapsed": false
   },
   "outputs": [
    {
     "data": {
      "text/plain": [
       "count    714.000000\n",
       "mean      29.699118\n",
       "std       14.526497\n",
       "min        0.420000\n",
       "25%       20.125000\n",
       "50%       28.000000\n",
       "75%       38.000000\n",
       "max       80.000000\n",
       "Name: Age, dtype: float64"
      ]
     },
     "execution_count": 39,
     "metadata": {},
     "output_type": "execute_result"
    }
   ],
   "source": [
    "df['Age'].describe()"
   ]
  },
  {
   "cell_type": "code",
   "execution_count": null,
   "metadata": {
    "collapsed": true
   },
   "outputs": [],
   "source": []
  }
 ],
 "metadata": {
  "kernelspec": {
   "display_name": "Python 2",
   "language": "python",
   "name": "python2"
  },
  "language_info": {
   "codemirror_mode": {
    "name": "ipython",
    "version": 2
   },
   "file_extension": ".py",
   "mimetype": "text/x-python",
   "name": "python",
   "nbconvert_exporter": "python",
   "pygments_lexer": "ipython2",
   "version": "2.7.10"
  }
 },
 "nbformat": 4,
 "nbformat_minor": 0
}

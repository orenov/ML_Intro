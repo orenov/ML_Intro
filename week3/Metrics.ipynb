{
 "cells": [
  {
   "cell_type": "code",
   "execution_count": 3,
   "metadata": {
    "collapsed": false
   },
   "outputs": [],
   "source": [
    "import sklearn.metrics\n",
    "import pandas as pd\n",
    "import numpy as np"
   ]
  },
  {
   "cell_type": "code",
   "execution_count": 4,
   "metadata": {
    "collapsed": false
   },
   "outputs": [
    {
     "data": {
      "text/html": [
       "<div>\n",
       "<table border=\"1\" class=\"dataframe\">\n",
       "  <thead>\n",
       "    <tr style=\"text-align: right;\">\n",
       "      <th></th>\n",
       "      <th>true</th>\n",
       "      <th>pred</th>\n",
       "    </tr>\n",
       "  </thead>\n",
       "  <tbody>\n",
       "    <tr>\n",
       "      <th>0</th>\n",
       "      <td>1</td>\n",
       "      <td>0</td>\n",
       "    </tr>\n",
       "    <tr>\n",
       "      <th>1</th>\n",
       "      <td>1</td>\n",
       "      <td>1</td>\n",
       "    </tr>\n",
       "    <tr>\n",
       "      <th>2</th>\n",
       "      <td>1</td>\n",
       "      <td>1</td>\n",
       "    </tr>\n",
       "    <tr>\n",
       "      <th>3</th>\n",
       "      <td>0</td>\n",
       "      <td>0</td>\n",
       "    </tr>\n",
       "    <tr>\n",
       "      <th>4</th>\n",
       "      <td>1</td>\n",
       "      <td>1</td>\n",
       "    </tr>\n",
       "  </tbody>\n",
       "</table>\n",
       "</div>"
      ],
      "text/plain": [
       "   true  pred\n",
       "0     1     0\n",
       "1     1     1\n",
       "2     1     1\n",
       "3     0     0\n",
       "4     1     1"
      ]
     },
     "execution_count": 4,
     "metadata": {},
     "output_type": "execute_result"
    }
   ],
   "source": [
    "cl = pd.read_csv(\"classification.csv\")\n",
    "cl.head()"
   ]
  },
  {
   "cell_type": "code",
   "execution_count": 55,
   "metadata": {
    "collapsed": false
   },
   "outputs": [
    {
     "name": "stdout",
     "output_type": "stream",
     "text": [
      "0.54\n"
     ]
    }
   ],
   "source": [
    "print \"%.2f\" % sklearn.metrics.accuracy_score(cl['true'], cl['pred'])"
   ]
  },
  {
   "cell_type": "code",
   "execution_count": 56,
   "metadata": {
    "collapsed": false
   },
   "outputs": [
    {
     "name": "stdout",
     "output_type": "stream",
     "text": [
      "0.56\n"
     ]
    }
   ],
   "source": [
    "print \"%.2f\" % sklearn.metrics.precision_score(cl['true'], cl['pred'])"
   ]
  },
  {
   "cell_type": "code",
   "execution_count": 57,
   "metadata": {
    "collapsed": false
   },
   "outputs": [
    {
     "name": "stdout",
     "output_type": "stream",
     "text": [
      "0.42\n"
     ]
    }
   ],
   "source": [
    "print \"%.2f\" % sklearn.metrics.recall_score(cl['true'], cl['pred'])"
   ]
  },
  {
   "cell_type": "code",
   "execution_count": 58,
   "metadata": {
    "collapsed": false
   },
   "outputs": [
    {
     "name": "stdout",
     "output_type": "stream",
     "text": [
      "0.48\n"
     ]
    }
   ],
   "source": [
    "print \"%.2f\" % sklearn.metrics.f1_score(cl['true'], cl['pred'])"
   ]
  },
  {
   "cell_type": "code",
   "execution_count": 61,
   "metadata": {
    "collapsed": false
   },
   "outputs": [
    {
     "name": "stdout",
     "output_type": "stream",
     "text": [
      "[[64 59]\n",
      " [34 43]]\n"
     ]
    }
   ],
   "source": [
    "print sklearn.metrics.confusion_matrix(cl['true'], cl['pred']).T"
   ]
  },
  {
   "cell_type": "code",
   "execution_count": 10,
   "metadata": {
    "collapsed": true
   },
   "outputs": [],
   "source": [
    "scores = pd.read_csv(\"scores.csv\")"
   ]
  },
  {
   "cell_type": "code",
   "execution_count": 11,
   "metadata": {
    "collapsed": false
   },
   "outputs": [
    {
     "data": {
      "text/html": [
       "<div>\n",
       "<table border=\"1\" class=\"dataframe\">\n",
       "  <thead>\n",
       "    <tr style=\"text-align: right;\">\n",
       "      <th></th>\n",
       "      <th>true</th>\n",
       "      <th>score_logreg</th>\n",
       "      <th>score_svm</th>\n",
       "      <th>score_knn</th>\n",
       "      <th>score_tree</th>\n",
       "    </tr>\n",
       "  </thead>\n",
       "  <tbody>\n",
       "    <tr>\n",
       "      <th>0</th>\n",
       "      <td>0</td>\n",
       "      <td>0.683832</td>\n",
       "      <td>0.145976</td>\n",
       "      <td>0.787063</td>\n",
       "      <td>0.500000</td>\n",
       "    </tr>\n",
       "    <tr>\n",
       "      <th>1</th>\n",
       "      <td>1</td>\n",
       "      <td>0.801966</td>\n",
       "      <td>0.239511</td>\n",
       "      <td>1.000000</td>\n",
       "      <td>0.833333</td>\n",
       "    </tr>\n",
       "    <tr>\n",
       "      <th>2</th>\n",
       "      <td>0</td>\n",
       "      <td>0.382315</td>\n",
       "      <td>-0.245701</td>\n",
       "      <td>0.000000</td>\n",
       "      <td>0.000000</td>\n",
       "    </tr>\n",
       "    <tr>\n",
       "      <th>3</th>\n",
       "      <td>1</td>\n",
       "      <td>0.506797</td>\n",
       "      <td>-0.137058</td>\n",
       "      <td>0.000000</td>\n",
       "      <td>0.105263</td>\n",
       "    </tr>\n",
       "    <tr>\n",
       "      <th>4</th>\n",
       "      <td>1</td>\n",
       "      <td>0.488781</td>\n",
       "      <td>-0.154148</td>\n",
       "      <td>0.000000</td>\n",
       "      <td>0.105263</td>\n",
       "    </tr>\n",
       "  </tbody>\n",
       "</table>\n",
       "</div>"
      ],
      "text/plain": [
       "   true  score_logreg  score_svm  score_knn  score_tree\n",
       "0     0      0.683832   0.145976   0.787063    0.500000\n",
       "1     1      0.801966   0.239511   1.000000    0.833333\n",
       "2     0      0.382315  -0.245701   0.000000    0.000000\n",
       "3     1      0.506797  -0.137058   0.000000    0.105263\n",
       "4     1      0.488781  -0.154148   0.000000    0.105263"
      ]
     },
     "execution_count": 11,
     "metadata": {},
     "output_type": "execute_result"
    }
   ],
   "source": [
    "scores.head()"
   ]
  },
  {
   "cell_type": "code",
   "execution_count": 12,
   "metadata": {
    "collapsed": false
   },
   "outputs": [
    {
     "data": {
      "text/plain": [
       "0.71918767507002812"
      ]
     },
     "execution_count": 12,
     "metadata": {},
     "output_type": "execute_result"
    }
   ],
   "source": [
    "sklearn.metrics.roc_auc_score(scores['true'], scores['score_logreg'])"
   ]
  },
  {
   "cell_type": "code",
   "execution_count": 13,
   "metadata": {
    "collapsed": false
   },
   "outputs": [
    {
     "data": {
      "text/plain": [
       "0.70868347338935578"
      ]
     },
     "execution_count": 13,
     "metadata": {},
     "output_type": "execute_result"
    }
   ],
   "source": [
    "sklearn.metrics.roc_auc_score(scores['true'], scores['score_svm'])"
   ]
  },
  {
   "cell_type": "code",
   "execution_count": 14,
   "metadata": {
    "collapsed": false
   },
   "outputs": [
    {
     "data": {
      "text/plain": [
       "0.63515406162464982"
      ]
     },
     "execution_count": 14,
     "metadata": {},
     "output_type": "execute_result"
    }
   ],
   "source": [
    "sklearn.metrics.roc_auc_score(scores['true'], scores['score_knn'])"
   ]
  },
  {
   "cell_type": "code",
   "execution_count": 15,
   "metadata": {
    "collapsed": false
   },
   "outputs": [
    {
     "data": {
      "text/plain": [
       "0.69192677070828335"
      ]
     },
     "execution_count": 15,
     "metadata": {},
     "output_type": "execute_result"
    }
   ],
   "source": [
    "sklearn.metrics.roc_auc_score(scores['true'], scores['score_tree'])"
   ]
  },
  {
   "cell_type": "code",
   "execution_count": 17,
   "metadata": {
    "collapsed": true
   },
   "outputs": [],
   "source": [
    "arr1 = sklearn.metrics.precision_recall_curve(scores['true'], scores['score_logreg'])\n",
    "arr2 = sklearn.metrics.precision_recall_curve(scores['true'], scores['score_svm'])\n",
    "arr3 = sklearn.metrics.precision_recall_curve(scores['true'], scores['score_knn'])\n",
    "arr4 = sklearn.metrics.precision_recall_curve(scores['true'], scores['score_tree'])"
   ]
  },
  {
   "cell_type": "code",
   "execution_count": 19,
   "metadata": {
    "collapsed": false
   },
   "outputs": [
    {
     "data": {
      "text/plain": [
       "(198,)"
      ]
     },
     "execution_count": 19,
     "metadata": {},
     "output_type": "execute_result"
    }
   ],
   "source": [
    "arr1[0].shape"
   ]
  },
  {
   "cell_type": "code",
   "execution_count": 41,
   "metadata": {
    "collapsed": false
   },
   "outputs": [],
   "source": [
    "arr_f1 = [{'clf' : 'logreg', 'precision' : arr1[0][i], 'recall' : arr1[1][i], 'threshold' : arr1[2][i]} for i in xrange(arr1[0].shape[0]-1)]\n",
    "arr_f2 = [{'clf' : 'svm', 'precision' : arr2[0][i], 'recall' : arr2[1][i], 'threshold' : arr2[2][i]} for i in xrange(arr2[0].shape[0]-1)]\n",
    "arr_f3 = [{'clf' : 'knn', 'precision' : arr3[0][i], 'recall' : arr3[1][i], 'threshold' : arr3[2][i]} for i in xrange(arr3[0].shape[0]-1)]\n",
    "arr_f4 = [{'clf' : 'tree', 'precision' : arr4[0][i], 'recall' : arr4[1][i], 'threshold' : arr4[2][i]} for i in xrange(arr4[0].shape[0]-1)]"
   ]
  },
  {
   "cell_type": "code",
   "execution_count": 42,
   "metadata": {
    "collapsed": false
   },
   "outputs": [],
   "source": [
    "arr_logreg = filter(lambda s: s['recall'] >= 0.7, arr_f1)\n",
    "arr_svm = filter(lambda s: s['recall'] >= 0.7, arr_f2)\n",
    "arr_knn = filter(lambda s: s['recall'] >= 0.7, arr_f3)\n",
    "arr_tree = filter(lambda s: s['recall'] >= 0.7, arr_f4)"
   ]
  },
  {
   "cell_type": "code",
   "execution_count": 43,
   "metadata": {
    "collapsed": false
   },
   "outputs": [],
   "source": [
    "arr = arr_logreg + arr_svm + arr_knn + arr_tree"
   ]
  },
  {
   "cell_type": "code",
   "execution_count": 44,
   "metadata": {
    "collapsed": false
   },
   "outputs": [
    {
     "data": {
      "text/plain": [
       "{'clf': 'tree',\n",
       " 'precision': 0.6517857142857143,\n",
       " 'recall': 0.74489795918367352,\n",
       " 'threshold': 0.40000000000000002}"
      ]
     },
     "execution_count": 44,
     "metadata": {},
     "output_type": "execute_result"
    }
   ],
   "source": [
    "reduce(lambda a,b : a if a['precision'] > b['precision'] else b, arr)"
   ]
  },
  {
   "cell_type": "code",
   "execution_count": 38,
   "metadata": {
    "collapsed": false
   },
   "outputs": [
    {
     "data": {
      "text/plain": [
       "[[{'precision': 0.49746192893401014,\n",
       "   'recall': 1.0,\n",
       "   'threshold': 0.070738721828146958},\n",
       "  {'precision': 0.49489795918367346,\n",
       "   'recall': 0.98979591836734693,\n",
       "   'threshold': 0.074923336628734086},\n",
       "  {'precision': 0.49230769230769234,\n",
       "   'recall': 0.97959183673469385,\n",
       "   'threshold': 0.086688252920727987},\n",
       "  {'precision': 0.49484536082474229,\n",
       "   'recall': 0.97959183673469385,\n",
       "   'threshold': 0.096733391199300439},\n",
       "  {'precision': 0.49740932642487046,\n",
       "   'recall': 0.97959183673469385,\n",
       "   'threshold': 0.10160273860394674},\n",
       "  {'precision': 0.49479166666666669,\n",
       "   'recall': 0.96938775510204078,\n",
       "   'threshold': 0.10850623768997787},\n",
       "  {'precision': 0.49738219895287961,\n",
       "   'recall': 0.96938775510204078,\n",
       "   'threshold': 0.11765768122635807},\n",
       "  {'precision': 0.49473684210526314,\n",
       "   'recall': 0.95918367346938771,\n",
       "   'threshold': 0.13781334155165031},\n",
       "  {'precision': 0.49735449735449733,\n",
       "   'recall': 0.95918367346938771,\n",
       "   'threshold': 0.1387965979100988},\n",
       "  {'precision': 0.5,\n",
       "   'recall': 0.95918367346938771,\n",
       "   'threshold': 0.13961477651701806},\n",
       "  {'precision': 0.50267379679144386,\n",
       "   'recall': 0.95918367346938771,\n",
       "   'threshold': 0.15190177478720046},\n",
       "  {'precision': 0.5,\n",
       "   'recall': 0.94897959183673475,\n",
       "   'threshold': 0.15200060594904419},\n",
       "  {'precision': 0.49729729729729732,\n",
       "   'recall': 0.93877551020408168,\n",
       "   'threshold': 0.15733162842498727},\n",
       "  {'precision': 0.5,\n",
       "   'recall': 0.93877551020408168,\n",
       "   'threshold': 0.15876747972813335},\n",
       "  {'precision': 0.50273224043715847,\n",
       "   'recall': 0.93877551020408168,\n",
       "   'threshold': 0.16073298456745491},\n",
       "  {'precision': 0.50549450549450547,\n",
       "   'recall': 0.93877551020408168,\n",
       "   'threshold': 0.1615582003774173},\n",
       "  {'precision': 0.50828729281767959,\n",
       "   'recall': 0.93877551020408168,\n",
       "   'threshold': 0.16654798775905796},\n",
       "  {'precision': 0.51111111111111107,\n",
       "   'recall': 0.93877551020408168,\n",
       "   'threshold': 0.16870812101386656},\n",
       "  {'precision': 0.51396648044692739,\n",
       "   'recall': 0.93877551020408168,\n",
       "   'threshold': 0.17318399542678609},\n",
       "  {'precision': 0.5168539325842697,\n",
       "   'recall': 0.93877551020408168,\n",
       "   'threshold': 0.17884898217795586},\n",
       "  {'precision': 0.51977401129943501,\n",
       "   'recall': 0.93877551020408168,\n",
       "   'threshold': 0.18570984167338855},\n",
       "  {'precision': 0.52272727272727271,\n",
       "   'recall': 0.93877551020408168,\n",
       "   'threshold': 0.19601518195752679},\n",
       "  {'precision': 0.52571428571428569,\n",
       "   'recall': 0.93877551020408168,\n",
       "   'threshold': 0.2119551150237764},\n",
       "  {'precision': 0.52873563218390807,\n",
       "   'recall': 0.93877551020408168,\n",
       "   'threshold': 0.21235997228010869},\n",
       "  {'precision': 0.53179190751445082,\n",
       "   'recall': 0.93877551020408168,\n",
       "   'threshold': 0.213606416718752},\n",
       "  {'precision': 0.53488372093023251,\n",
       "   'recall': 0.93877551020408168,\n",
       "   'threshold': 0.21778990181540209},\n",
       "  {'precision': 0.53801169590643272,\n",
       "   'recall': 0.93877551020408168,\n",
       "   'threshold': 0.22817610410571049},\n",
       "  {'precision': 0.53529411764705881,\n",
       "   'recall': 0.9285714285714286,\n",
       "   'threshold': 0.23908032965817039},\n",
       "  {'precision': 0.53846153846153844,\n",
       "   'recall': 0.9285714285714286,\n",
       "   'threshold': 0.2552452521071723},\n",
       "  {'precision': 0.54166666666666663,\n",
       "   'recall': 0.9285714285714286,\n",
       "   'threshold': 0.25935971933061841},\n",
       "  {'precision': 0.54491017964071853,\n",
       "   'recall': 0.9285714285714286,\n",
       "   'threshold': 0.26019935660524129},\n",
       "  {'precision': 0.54819277108433739,\n",
       "   'recall': 0.9285714285714286,\n",
       "   'threshold': 0.27141442321982184},\n",
       "  {'precision': 0.55151515151515151,\n",
       "   'recall': 0.9285714285714286,\n",
       "   'threshold': 0.27419835838951778},\n",
       "  {'precision': 0.54878048780487809,\n",
       "   'recall': 0.91836734693877553,\n",
       "   'threshold': 0.27559374328467451},\n",
       "  {'precision': 0.55214723926380371,\n",
       "   'recall': 0.91836734693877553,\n",
       "   'threshold': 0.27591229275714629},\n",
       "  {'precision': 0.54938271604938271,\n",
       "   'recall': 0.90816326530612246,\n",
       "   'threshold': 0.27647237994614937},\n",
       "  {'precision': 0.55279503105590067,\n",
       "   'recall': 0.90816326530612246,\n",
       "   'threshold': 0.28207412404114601},\n",
       "  {'precision': 0.55625000000000002,\n",
       "   'recall': 0.90816326530612246,\n",
       "   'threshold': 0.28255693090531603},\n",
       "  {'precision': 0.55974842767295596,\n",
       "   'recall': 0.90816326530612246,\n",
       "   'threshold': 0.28297781159657309},\n",
       "  {'precision': 0.55696202531645567,\n",
       "   'recall': 0.89795918367346939,\n",
       "   'threshold': 0.29683665814565396},\n",
       "  {'precision': 0.56050955414012738,\n",
       "   'recall': 0.89795918367346939,\n",
       "   'threshold': 0.2995725324315277},\n",
       "  {'precision': 0.5641025641025641,\n",
       "   'recall': 0.89795918367346939,\n",
       "   'threshold': 0.30069635887206358},\n",
       "  {'precision': 0.56129032258064515,\n",
       "   'recall': 0.88775510204081631,\n",
       "   'threshold': 0.30578731149098393},\n",
       "  {'precision': 0.56493506493506496,\n",
       "   'recall': 0.88775510204081631,\n",
       "   'threshold': 0.31066455280457372},\n",
       "  {'precision': 0.56862745098039214,\n",
       "   'recall': 0.88775510204081631,\n",
       "   'threshold': 0.3121215443575287},\n",
       "  {'precision': 0.56578947368421051,\n",
       "   'recall': 0.87755102040816324,\n",
       "   'threshold': 0.31391684522284452},\n",
       "  {'precision': 0.56953642384105962,\n",
       "   'recall': 0.87755102040816324,\n",
       "   'threshold': 0.31423049569026967},\n",
       "  {'precision': 0.56666666666666665,\n",
       "   'recall': 0.86734693877551017,\n",
       "   'threshold': 0.32071135513867238},\n",
       "  {'precision': 0.57046979865771807,\n",
       "   'recall': 0.86734693877551017,\n",
       "   'threshold': 0.32251017974325219},\n",
       "  {'precision': 0.57432432432432434,\n",
       "   'recall': 0.86734693877551017,\n",
       "   'threshold': 0.33048369766528712},\n",
       "  {'precision': 0.5714285714285714,\n",
       "   'recall': 0.8571428571428571,\n",
       "   'threshold': 0.34358880257135438},\n",
       "  {'precision': 0.57534246575342463,\n",
       "   'recall': 0.8571428571428571,\n",
       "   'threshold': 0.34523840106255871},\n",
       "  {'precision': 0.57241379310344831,\n",
       "   'recall': 0.84693877551020413,\n",
       "   'threshold': 0.35819307468924177},\n",
       "  {'precision': 0.57638888888888884,\n",
       "   'recall': 0.84693877551020413,\n",
       "   'threshold': 0.3601886751134159},\n",
       "  {'precision': 0.58041958041958042,\n",
       "   'recall': 0.84693877551020413,\n",
       "   'threshold': 0.36661136349130791},\n",
       "  {'precision': 0.58450704225352113,\n",
       "   'recall': 0.84693877551020413,\n",
       "   'threshold': 0.36969123695345391},\n",
       "  {'precision': 0.58156028368794321,\n",
       "   'recall': 0.83673469387755106,\n",
       "   'threshold': 0.37385575185644521},\n",
       "  {'precision': 0.58571428571428574,\n",
       "   'recall': 0.83673469387755106,\n",
       "   'threshold': 0.38231536268978522},\n",
       "  {'precision': 0.58992805755395683,\n",
       "   'recall': 0.83673469387755106,\n",
       "   'threshold': 0.38520435921368129},\n",
       "  {'precision': 0.58695652173913049,\n",
       "   'recall': 0.82653061224489799,\n",
       "   'threshold': 0.3917281864252587},\n",
       "  {'precision': 0.59124087591240881,\n",
       "   'recall': 0.82653061224489799,\n",
       "   'threshold': 0.40863331926659002},\n",
       "  {'precision': 0.59558823529411764,\n",
       "   'recall': 0.82653061224489799,\n",
       "   'threshold': 0.41374898259345971},\n",
       "  {'precision': 0.59999999999999998,\n",
       "   'recall': 0.82653061224489799,\n",
       "   'threshold': 0.4175801222005423},\n",
       "  {'precision': 0.59701492537313428,\n",
       "   'recall': 0.81632653061224492,\n",
       "   'threshold': 0.42145995191104813},\n",
       "  {'precision': 0.60150375939849621,\n",
       "   'recall': 0.81632653061224492,\n",
       "   'threshold': 0.42459980797532748},\n",
       "  {'precision': 0.60606060606060608,\n",
       "   'recall': 0.81632653061224492,\n",
       "   'threshold': 0.42553821714498152},\n",
       "  {'precision': 0.60305343511450382,\n",
       "   'recall': 0.80612244897959184,\n",
       "   'threshold': 0.42802821518912831},\n",
       "  {'precision': 0.59999999999999998,\n",
       "   'recall': 0.79591836734693877,\n",
       "   'threshold': 0.43658124837853218},\n",
       "  {'precision': 0.60465116279069764,\n",
       "   'recall': 0.79591836734693877,\n",
       "   'threshold': 0.43795397193176655},\n",
       "  {'precision': 0.609375,\n",
       "   'recall': 0.79591836734693877,\n",
       "   'threshold': 0.44154691083862818},\n",
       "  {'precision': 0.61417322834645671,\n",
       "   'recall': 0.79591836734693877,\n",
       "   'threshold': 0.44660932471778519},\n",
       "  {'precision': 0.61111111111111116,\n",
       "   'recall': 0.7857142857142857,\n",
       "   'threshold': 0.45395142625270068},\n",
       "  {'precision': 0.61599999999999999,\n",
       "   'recall': 0.7857142857142857,\n",
       "   'threshold': 0.45726077802567838},\n",
       "  {'precision': 0.62096774193548387,\n",
       "   'recall': 0.7857142857142857,\n",
       "   'threshold': 0.4682577319778356},\n",
       "  {'precision': 0.62601626016260159,\n",
       "   'recall': 0.7857142857142857,\n",
       "   'threshold': 0.47043860424166639},\n",
       "  {'precision': 0.62295081967213117,\n",
       "   'recall': 0.77551020408163263,\n",
       "   'threshold': 0.47607135266934092},\n",
       "  {'precision': 0.6198347107438017,\n",
       "   'recall': 0.76530612244897955,\n",
       "   'threshold': 0.48109823159851539},\n",
       "  {'precision': 0.625,\n",
       "   'recall': 0.76530612244897955,\n",
       "   'threshold': 0.48618686714313331},\n",
       "  {'precision': 0.63025210084033612,\n",
       "   'recall': 0.76530612244897955,\n",
       "   'threshold': 0.48852200029860349},\n",
       "  {'precision': 0.6271186440677966,\n",
       "   'recall': 0.75510204081632648,\n",
       "   'threshold': 0.48878148532281229},\n",
       "  {'precision': 0.62393162393162394,\n",
       "   'recall': 0.74489795918367352,\n",
       "   'threshold': 0.48895693428572762},\n",
       "  {'precision': 0.62068965517241381,\n",
       "   'recall': 0.73469387755102045,\n",
       "   'threshold': 0.49100999217403629},\n",
       "  {'precision': 0.62608695652173918,\n",
       "   'recall': 0.73469387755102045,\n",
       "   'threshold': 0.49145140652879787},\n",
       "  {'precision': 0.6228070175438597,\n",
       "   'recall': 0.72448979591836737,\n",
       "   'threshold': 0.49358103830793948},\n",
       "  {'precision': 0.61946902654867253,\n",
       "   'recall': 0.7142857142857143,\n",
       "   'threshold': 0.4942193105202507},\n",
       "  {'precision': 0.6160714285714286,\n",
       "   'recall': 0.70408163265306123,\n",
       "   'threshold': 0.50471574483408022}],\n",
       " [{'precision': 0.49246231155778897,\n",
       "   'recall': 1.0,\n",
       "   'threshold': -0.93280741396114419},\n",
       "  {'precision': 0.48989898989898989,\n",
       "   'recall': 0.98979591836734693,\n",
       "   'threshold': -0.92117763377650719},\n",
       "  {'precision': 0.49238578680203043,\n",
       "   'recall': 0.98979591836734693,\n",
       "   'threshold': -0.87513544169657509},\n",
       "  {'precision': 0.48979591836734693,\n",
       "   'recall': 0.97959183673469385,\n",
       "   'threshold': -0.87280515806194514},\n",
       "  {'precision': 0.49230769230769234,\n",
       "   'recall': 0.97959183673469385,\n",
       "   'threshold': -0.84598497043292364},\n",
       "  {'precision': 0.49484536082474229,\n",
       "   'recall': 0.97959183673469385,\n",
       "   'threshold': -0.8275162870184547},\n",
       "  {'precision': 0.49740932642487046,\n",
       "   'recall': 0.97959183673469385,\n",
       "   'threshold': -0.79086395027255563},\n",
       "  {'precision': 0.5,\n",
       "   'recall': 0.97959183673469385,\n",
       "   'threshold': -0.72158636295771739},\n",
       "  {'precision': 0.49738219895287961,\n",
       "   'recall': 0.96938775510204078,\n",
       "   'threshold': -0.72133939891112764},\n",
       "  {'precision': 0.49473684210526314,\n",
       "   'recall': 0.95918367346938771,\n",
       "   'threshold': -0.70760031858934802},\n",
       "  {'precision': 0.49206349206349204,\n",
       "   'recall': 0.94897959183673475,\n",
       "   'threshold': -0.68669738493452437},\n",
       "  {'precision': 0.49468085106382981,\n",
       "   'recall': 0.94897959183673475,\n",
       "   'threshold': -0.6828334678418877},\n",
       "  {'precision': 0.49732620320855614,\n",
       "   'recall': 0.94897959183673475,\n",
       "   'threshold': -0.67841868444835463},\n",
       "  {'precision': 0.5,\n",
       "   'recall': 0.94897959183673475,\n",
       "   'threshold': -0.63427313203804969},\n",
       "  {'precision': 0.49729729729729732,\n",
       "   'recall': 0.93877551020408168,\n",
       "   'threshold': -0.63252537325232649},\n",
       "  {'precision': 0.5,\n",
       "   'recall': 0.93877551020408168,\n",
       "   'threshold': -0.6316973352711166},\n",
       "  {'precision': 0.50273224043715847,\n",
       "   'recall': 0.93877551020408168,\n",
       "   'threshold': -0.63112837193405991},\n",
       "  {'precision': 0.50549450549450547,\n",
       "   'recall': 0.93877551020408168,\n",
       "   'threshold': -0.61119509381962844},\n",
       "  {'precision': 0.50828729281767959,\n",
       "   'recall': 0.93877551020408168,\n",
       "   'threshold': -0.60553886664379442},\n",
       "  {'precision': 0.51111111111111107,\n",
       "   'recall': 0.93877551020408168,\n",
       "   'threshold': -0.58590922914754029},\n",
       "  {'precision': 0.51396648044692739,\n",
       "   'recall': 0.93877551020408168,\n",
       "   'threshold': -0.55861650112667549},\n",
       "  {'precision': 0.5168539325842697,\n",
       "   'recall': 0.93877551020408168,\n",
       "   'threshold': -0.53447507043818232},\n",
       "  {'precision': 0.51977401129943501,\n",
       "   'recall': 0.93877551020408168,\n",
       "   'threshold': -0.52473243251231982},\n",
       "  {'precision': 0.52272727272727271,\n",
       "   'recall': 0.93877551020408168,\n",
       "   'threshold': -0.52066510389187337},\n",
       "  {'precision': 0.52571428571428569,\n",
       "   'recall': 0.93877551020408168,\n",
       "   'threshold': -0.52010710212058164},\n",
       "  {'precision': 0.52298850574712641,\n",
       "   'recall': 0.9285714285714286,\n",
       "   'threshold': -0.51839038894861045},\n",
       "  {'precision': 0.52601156069364163,\n",
       "   'recall': 0.9285714285714286,\n",
       "   'threshold': -0.50788372788598479},\n",
       "  {'precision': 0.52906976744186052,\n",
       "   'recall': 0.9285714285714286,\n",
       "   'threshold': -0.50412033520424226},\n",
       "  {'precision': 0.53216374269005851,\n",
       "   'recall': 0.9285714285714286,\n",
       "   'threshold': -0.45149222974464603},\n",
       "  {'precision': 0.53529411764705881,\n",
       "   'recall': 0.9285714285714286,\n",
       "   'threshold': -0.44871839450238987},\n",
       "  {'precision': 0.53846153846153844,\n",
       "   'recall': 0.9285714285714286,\n",
       "   'threshold': -0.44726453535547184},\n",
       "  {'precision': 0.54166666666666663,\n",
       "   'recall': 0.9285714285714286,\n",
       "   'threshold': -0.44620562918639839},\n",
       "  {'precision': 0.54491017964071853,\n",
       "   'recall': 0.9285714285714286,\n",
       "   'threshold': -0.44575017263449018},\n",
       "  {'precision': 0.54819277108433739,\n",
       "   'recall': 0.9285714285714286,\n",
       "   'threshold': -0.43163076576904891},\n",
       "  {'precision': 0.54545454545454541,\n",
       "   'recall': 0.91836734693877553,\n",
       "   'threshold': -0.42216043348403748},\n",
       "  {'precision': 0.54878048780487809,\n",
       "   'recall': 0.91836734693877553,\n",
       "   'threshold': -0.41822774491371367},\n",
       "  {'precision': 0.55214723926380371,\n",
       "   'recall': 0.91836734693877553,\n",
       "   'threshold': -0.41770266677957857},\n",
       "  {'precision': 0.55555555555555558,\n",
       "   'recall': 0.91836734693877553,\n",
       "   'threshold': -0.41458506152376451},\n",
       "  {'precision': 0.55279503105590067,\n",
       "   'recall': 0.90816326530612246,\n",
       "   'threshold': -0.41280062843338455},\n",
       "  {'precision': 0.55000000000000004,\n",
       "   'recall': 0.89795918367346939,\n",
       "   'threshold': -0.40964175564970345},\n",
       "  {'precision': 0.54716981132075471,\n",
       "   'recall': 0.88775510204081631,\n",
       "   'threshold': -0.40886267072005655},\n",
       "  {'precision': 0.55063291139240511,\n",
       "   'recall': 0.88775510204081631,\n",
       "   'threshold': -0.40654801162399712},\n",
       "  {'precision': 0.54777070063694266,\n",
       "   'recall': 0.87755102040816324,\n",
       "   'threshold': -0.40514387061678631},\n",
       "  {'precision': 0.54487179487179482,\n",
       "   'recall': 0.86734693877551017,\n",
       "   'threshold': -0.39381197196795092},\n",
       "  {'precision': 0.54838709677419351,\n",
       "   'recall': 0.86734693877551017,\n",
       "   'threshold': -0.38444594185838593},\n",
       "  {'precision': 0.55194805194805197,\n",
       "   'recall': 0.86734693877551017,\n",
       "   'threshold': -0.3796078787234678},\n",
       "  {'precision': 0.55555555555555558,\n",
       "   'recall': 0.86734693877551017,\n",
       "   'threshold': -0.37439577838268873},\n",
       "  {'precision': 0.55921052631578949,\n",
       "   'recall': 0.86734693877551017,\n",
       "   'threshold': -0.37328700572861095},\n",
       "  {'precision': 0.5629139072847682,\n",
       "   'recall': 0.86734693877551017,\n",
       "   'threshold': -0.3675908107853062},\n",
       "  {'precision': 0.56666666666666665,\n",
       "   'recall': 0.86734693877551017,\n",
       "   'threshold': -0.34231316790633071},\n",
       "  {'precision': 0.57046979865771807,\n",
       "   'recall': 0.86734693877551017,\n",
       "   'threshold': -0.3288023723860069},\n",
       "  {'precision': 0.57432432432432434,\n",
       "   'recall': 0.86734693877551017,\n",
       "   'threshold': -0.32745998019844408},\n",
       "  {'precision': 0.5714285714285714,\n",
       "   'recall': 0.8571428571428571,\n",
       "   'threshold': -0.30758275113263889},\n",
       "  {'precision': 0.57534246575342463,\n",
       "   'recall': 0.8571428571428571,\n",
       "   'threshold': -0.30148843992173202},\n",
       "  {'precision': 0.57931034482758625,\n",
       "   'recall': 0.8571428571428571,\n",
       "   'threshold': -0.2773593632614586},\n",
       "  {'precision': 0.58333333333333337,\n",
       "   'recall': 0.8571428571428571,\n",
       "   'threshold': -0.26987324695826331},\n",
       "  {'precision': 0.58741258741258739,\n",
       "   'recall': 0.8571428571428571,\n",
       "   'threshold': -0.26885947208529448},\n",
       "  {'precision': 0.59154929577464788,\n",
       "   'recall': 0.8571428571428571,\n",
       "   'threshold': -0.26350348149982816},\n",
       "  {'precision': 0.58865248226950351,\n",
       "   'recall': 0.84693877551020413,\n",
       "   'threshold': -0.25455858496108918},\n",
       "  {'precision': 0.59285714285714286,\n",
       "   'recall': 0.84693877551020413,\n",
       "   'threshold': -0.254074739547409},\n",
       "  {'precision': 0.58992805755395683,\n",
       "   'recall': 0.83673469387755106,\n",
       "   'threshold': -0.24570062913594626},\n",
       "  {'precision': 0.59420289855072461,\n",
       "   'recall': 0.83673469387755106,\n",
       "   'threshold': -0.2349786806114878},\n",
       "  {'precision': 0.59124087591240881,\n",
       "   'recall': 0.82653061224489799,\n",
       "   'threshold': -0.2330019181416029},\n",
       "  {'precision': 0.58823529411764708,\n",
       "   'recall': 0.81632653061224492,\n",
       "   'threshold': -0.23197724592597885},\n",
       "  {'precision': 0.59259259259259256,\n",
       "   'recall': 0.81632653061224492,\n",
       "   'threshold': -0.21472637052541174},\n",
       "  {'precision': 0.59701492537313428,\n",
       "   'recall': 0.81632653061224492,\n",
       "   'threshold': -0.21462447877963395},\n",
       "  {'precision': 0.59398496240601506,\n",
       "   'recall': 0.80612244897959184,\n",
       "   'threshold': -0.21280477734352768},\n",
       "  {'precision': 0.59090909090909094,\n",
       "   'recall': 0.79591836734693877,\n",
       "   'threshold': -0.20756360988363606},\n",
       "  {'precision': 0.59541984732824427,\n",
       "   'recall': 0.79591836734693877,\n",
       "   'threshold': -0.20426034096931933},\n",
       "  {'precision': 0.59999999999999998,\n",
       "   'recall': 0.79591836734693877,\n",
       "   'threshold': -0.18514254606574371},\n",
       "  {'precision': 0.60465116279069764,\n",
       "   'recall': 0.79591836734693877,\n",
       "   'threshold': -0.17940233255053351},\n",
       "  {'precision': 0.6015625,\n",
       "   'recall': 0.7857142857142857,\n",
       "   'threshold': -0.16944142365826514},\n",
       "  {'precision': 0.60629921259842523,\n",
       "   'recall': 0.7857142857142857,\n",
       "   'threshold': -0.1632469066073593},\n",
       "  {'precision': 0.60317460317460314,\n",
       "   'recall': 0.77551020408163263,\n",
       "   'threshold': -0.15906680550747271},\n",
       "  {'precision': 0.60799999999999998,\n",
       "   'recall': 0.77551020408163263,\n",
       "   'threshold': -0.15781287192842353},\n",
       "  {'precision': 0.61290322580645162,\n",
       "   'recall': 0.77551020408163263,\n",
       "   'threshold': -0.15414842753878605},\n",
       "  {'precision': 0.6097560975609756,\n",
       "   'recall': 0.76530612244897955,\n",
       "   'threshold': -0.15393185366964246},\n",
       "  {'precision': 0.60655737704918034,\n",
       "   'recall': 0.75510204081632648,\n",
       "   'threshold': -0.15166660070019394},\n",
       "  {'precision': 0.61157024793388426,\n",
       "   'recall': 0.75510204081632648,\n",
       "   'threshold': -0.14250893402418818},\n",
       "  {'precision': 0.60833333333333328,\n",
       "   'recall': 0.74489795918367352,\n",
       "   'threshold': -0.13705845260931404},\n",
       "  {'precision': 0.60504201680672265,\n",
       "   'recall': 0.73469387755102045,\n",
       "   'threshold': -0.1356725908142819},\n",
       "  {'precision': 0.60169491525423724,\n",
       "   'recall': 0.72448979591836737,\n",
       "   'threshold': -0.12903307204301279},\n",
       "  {'precision': 0.60683760683760679,\n",
       "   'recall': 0.72448979591836737,\n",
       "   'threshold': -0.12677994219302427},\n",
       "  {'precision': 0.61206896551724133,\n",
       "   'recall': 0.72448979591836737,\n",
       "   'threshold': -0.12634344417478316},\n",
       "  {'precision': 0.61739130434782608,\n",
       "   'recall': 0.72448979591836737,\n",
       "   'threshold': -0.1252900270756494},\n",
       "  {'precision': 0.6228070175438597,\n",
       "   'recall': 0.72448979591836737,\n",
       "   'threshold': -0.12354033058671055},\n",
       "  {'precision': 0.61946902654867253,\n",
       "   'recall': 0.7142857142857143,\n",
       "   'threshold': -0.1196055407777334},\n",
       "  {'precision': 0.6160714285714286,\n",
       "   'recall': 0.70408163265306123,\n",
       "   'threshold': -0.11293551047755128},\n",
       "  {'precision': 0.6216216216216216,\n",
       "   'recall': 0.70408163265306123,\n",
       "   'threshold': -0.1064947585019568}],\n",
       " [{'precision': 0.48999999999999999, 'recall': 1.0, 'threshold': 0.0},\n",
       "  {'precision': 0.52903225806451615,\n",
       "   'recall': 0.83673469387755106,\n",
       "   'threshold': 0.094999750989270076},\n",
       "  {'precision': 0.53246753246753242,\n",
       "   'recall': 0.83673469387755106,\n",
       "   'threshold': 0.13160380247790274},\n",
       "  {'precision': 0.53594771241830064,\n",
       "   'recall': 0.83673469387755106,\n",
       "   'threshold': 0.16011399595281686},\n",
       "  {'precision': 0.53947368421052633,\n",
       "   'recall': 0.83673469387755106,\n",
       "   'threshold': 0.16620683565447469},\n",
       "  {'precision': 0.53642384105960261,\n",
       "   'recall': 0.82653061224489799,\n",
       "   'threshold': 0.17927546329517666},\n",
       "  {'precision': 0.54000000000000004,\n",
       "   'recall': 0.82653061224489799,\n",
       "   'threshold': 0.18875476994003748},\n",
       "  {'precision': 0.5436241610738255,\n",
       "   'recall': 0.82653061224489799,\n",
       "   'threshold': 0.19136218115511719},\n",
       "  {'precision': 0.54729729729729726,\n",
       "   'recall': 0.82653061224489799,\n",
       "   'threshold': 0.19241192589580547},\n",
       "  {'precision': 0.55102040816326525,\n",
       "   'recall': 0.82653061224489799,\n",
       "   'threshold': 0.1958049284192897},\n",
       "  {'precision': 0.5547945205479452,\n",
       "   'recall': 0.82653061224489799,\n",
       "   'threshold': 0.20543650866744756},\n",
       "  {'precision': 0.55862068965517242,\n",
       "   'recall': 0.82653061224489799,\n",
       "   'threshold': 0.21509213286318887},\n",
       "  {'precision': 0.55555555555555558,\n",
       "   'recall': 0.81632653061224492,\n",
       "   'threshold': 0.21998937897056384},\n",
       "  {'precision': 0.55944055944055948,\n",
       "   'recall': 0.81632653061224492,\n",
       "   'threshold': 0.2264466896058776},\n",
       "  {'precision': 0.56338028169014087,\n",
       "   'recall': 0.81632653061224492,\n",
       "   'threshold': 0.23316146256238826},\n",
       "  {'precision': 0.56737588652482274,\n",
       "   'recall': 0.81632653061224492,\n",
       "   'threshold': 0.23335886177006679},\n",
       "  {'precision': 0.5714285714285714,\n",
       "   'recall': 0.81632653061224492,\n",
       "   'threshold': 0.234361611905954},\n",
       "  {'precision': 0.56834532374100721,\n",
       "   'recall': 0.80612244897959184,\n",
       "   'threshold': 0.23670739632948451},\n",
       "  {'precision': 0.56521739130434778,\n",
       "   'recall': 0.79591836734693877,\n",
       "   'threshold': 0.2482851232187521},\n",
       "  {'precision': 0.56934306569343063,\n",
       "   'recall': 0.79591836734693877,\n",
       "   'threshold': 0.25402086487594672},\n",
       "  {'precision': 0.56617647058823528,\n",
       "   'recall': 0.7857142857142857,\n",
       "   'threshold': 0.26883968273322578},\n",
       "  {'precision': 0.57037037037037042,\n",
       "   'recall': 0.7857142857142857,\n",
       "   'threshold': 0.27620842268252765},\n",
       "  {'precision': 0.56716417910447758,\n",
       "   'recall': 0.77551020408163263,\n",
       "   'threshold': 0.28040922981314681},\n",
       "  {'precision': 0.5714285714285714,\n",
       "   'recall': 0.77551020408163263,\n",
       "   'threshold': 0.28305250733835746},\n",
       "  {'precision': 0.5757575757575758,\n",
       "   'recall': 0.77551020408163263,\n",
       "   'threshold': 0.28419235086114736},\n",
       "  {'precision': 0.58015267175572516,\n",
       "   'recall': 0.77551020408163263,\n",
       "   'threshold': 0.28581611171832177},\n",
       "  {'precision': 0.58461538461538465,\n",
       "   'recall': 0.77551020408163263,\n",
       "   'threshold': 0.28733744683162449},\n",
       "  {'precision': 0.58914728682170547,\n",
       "   'recall': 0.77551020408163263,\n",
       "   'threshold': 0.29706207547905528},\n",
       "  {'precision': 0.59375,\n",
       "   'recall': 0.77551020408163263,\n",
       "   'threshold': 0.29858755850622176},\n",
       "  {'precision': 0.59055118110236215,\n",
       "   'recall': 0.76530612244897955,\n",
       "   'threshold': 0.30517154573092908},\n",
       "  {'precision': 0.58730158730158732,\n",
       "   'recall': 0.75510204081632648,\n",
       "   'threshold': 0.30677672179609128},\n",
       "  {'precision': 0.59199999999999997,\n",
       "   'recall': 0.75510204081632648,\n",
       "   'threshold': 0.31099813914853403},\n",
       "  {'precision': 0.59677419354838712,\n",
       "   'recall': 0.75510204081632648,\n",
       "   'threshold': 0.3114689723191168},\n",
       "  {'precision': 0.60162601626016265,\n",
       "   'recall': 0.75510204081632648,\n",
       "   'threshold': 0.3167211823437005},\n",
       "  {'precision': 0.60655737704918034,\n",
       "   'recall': 0.75510204081632648,\n",
       "   'threshold': 0.31933449649129242},\n",
       "  {'precision': 0.60330578512396693,\n",
       "   'recall': 0.74489795918367352,\n",
       "   'threshold': 0.32211559788495675},\n",
       "  {'precision': 0.59999999999999998,\n",
       "   'recall': 0.73469387755102045,\n",
       "   'threshold': 0.32942831069801087},\n",
       "  {'precision': 0.59663865546218486,\n",
       "   'recall': 0.72448979591836737,\n",
       "   'threshold': 0.32987757437590692},\n",
       "  {'precision': 0.59322033898305082,\n",
       "   'recall': 0.7142857142857143,\n",
       "   'threshold': 0.33783819472289722},\n",
       "  {'precision': 0.58974358974358976,\n",
       "   'recall': 0.70408163265306123,\n",
       "   'threshold': 0.3380530179466868},\n",
       "  {'precision': 0.59482758620689657,\n",
       "   'recall': 0.70408163265306123,\n",
       "   'threshold': 0.35624985676485105}],\n",
       " [{'precision': 0.48999999999999999, 'recall': 1.0, 'threshold': 0.0},\n",
       "  {'precision': 0.50273224043715847,\n",
       "   'recall': 0.93877551020408168,\n",
       "   'threshold': 0.10000000000000001},\n",
       "  {'precision': 0.50847457627118642,\n",
       "   'recall': 0.91836734693877553,\n",
       "   'threshold': 0.10526315789473684},\n",
       "  {'precision': 0.53289473684210531,\n",
       "   'recall': 0.82653061224489799,\n",
       "   'threshold': 0.31578947368421051},\n",
       "  {'precision': 0.59848484848484851,\n",
       "   'recall': 0.80612244897959184,\n",
       "   'threshold': 0.3636363636363637},\n",
       "  {'precision': 0.6517857142857143,\n",
       "   'recall': 0.74489795918367352,\n",
       "   'threshold': 0.40000000000000002}]]"
      ]
     },
     "execution_count": 38,
     "metadata": {},
     "output_type": "execute_result"
    }
   ],
   "source": [
    "arr"
   ]
  },
  {
   "cell_type": "code",
   "execution_count": 67,
   "metadata": {
    "collapsed": false
   },
   "outputs": [],
   "source": [
    "conf_matrix = sklearn.metrics.confusion_matrix(cl['true'], cl['pred'], labels=[1, 0])"
   ]
  },
  {
   "cell_type": "code",
   "execution_count": 68,
   "metadata": {
    "collapsed": false
   },
   "outputs": [
    {
     "data": {
      "text/plain": [
       "array([[43, 34],\n",
       "       [59, 64]])"
      ]
     },
     "execution_count": 68,
     "metadata": {},
     "output_type": "execute_result"
    }
   ],
   "source": [
    "conf_matrix.T"
   ]
  },
  {
   "cell_type": "code",
   "execution_count": null,
   "metadata": {
    "collapsed": true
   },
   "outputs": [],
   "source": []
  }
 ],
 "metadata": {
  "kernelspec": {
   "display_name": "Python 2",
   "language": "python",
   "name": "python2"
  },
  "language_info": {
   "codemirror_mode": {
    "name": "ipython",
    "version": 2
   },
   "file_extension": ".py",
   "mimetype": "text/x-python",
   "name": "python",
   "nbconvert_exporter": "python",
   "pygments_lexer": "ipython2",
   "version": "2.7.10"
  }
 },
 "nbformat": 4,
 "nbformat_minor": 0
}

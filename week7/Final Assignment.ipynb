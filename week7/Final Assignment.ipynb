{
 "cells": [
  {
   "cell_type": "markdown",
   "metadata": {},
   "source": [
    "#Part 1: Градиентный бустинг \"в лоб\""
   ]
  },
  {
   "cell_type": "markdown",
   "metadata": {},
   "source": [
    "## 1. Чтение данных, удаление признаков связанных с итогами матча"
   ]
  },
  {
   "cell_type": "code",
   "execution_count": 4,
   "metadata": {
    "collapsed": false,
    "scrolled": true
   },
   "outputs": [
    {
     "name": "stdout",
     "output_type": "stream",
     "text": [
      "(97230, 108)\n"
     ]
    },
    {
     "data": {
      "text/html": [
       "<div>\n",
       "<table border=\"1\" class=\"dataframe\">\n",
       "  <thead>\n",
       "    <tr style=\"text-align: right;\">\n",
       "      <th></th>\n",
       "      <th>start_time</th>\n",
       "      <th>lobby_type</th>\n",
       "      <th>r1_hero</th>\n",
       "      <th>r1_level</th>\n",
       "      <th>r1_xp</th>\n",
       "      <th>r1_gold</th>\n",
       "      <th>r1_lh</th>\n",
       "      <th>r1_kills</th>\n",
       "      <th>r1_deaths</th>\n",
       "      <th>r1_items</th>\n",
       "      <th>...</th>\n",
       "      <th>dire_boots_count</th>\n",
       "      <th>dire_ward_observer_count</th>\n",
       "      <th>dire_ward_sentry_count</th>\n",
       "      <th>dire_first_ward_time</th>\n",
       "      <th>duration</th>\n",
       "      <th>radiant_win</th>\n",
       "      <th>tower_status_radiant</th>\n",
       "      <th>tower_status_dire</th>\n",
       "      <th>barracks_status_radiant</th>\n",
       "      <th>barracks_status_dire</th>\n",
       "    </tr>\n",
       "    <tr>\n",
       "      <th>match_id</th>\n",
       "      <th></th>\n",
       "      <th></th>\n",
       "      <th></th>\n",
       "      <th></th>\n",
       "      <th></th>\n",
       "      <th></th>\n",
       "      <th></th>\n",
       "      <th></th>\n",
       "      <th></th>\n",
       "      <th></th>\n",
       "      <th></th>\n",
       "      <th></th>\n",
       "      <th></th>\n",
       "      <th></th>\n",
       "      <th></th>\n",
       "      <th></th>\n",
       "      <th></th>\n",
       "      <th></th>\n",
       "      <th></th>\n",
       "      <th></th>\n",
       "      <th></th>\n",
       "    </tr>\n",
       "  </thead>\n",
       "  <tbody>\n",
       "    <tr>\n",
       "      <th>0</th>\n",
       "      <td>1430198770</td>\n",
       "      <td>7</td>\n",
       "      <td>11</td>\n",
       "      <td>5</td>\n",
       "      <td>2098</td>\n",
       "      <td>1489</td>\n",
       "      <td>20</td>\n",
       "      <td>0</td>\n",
       "      <td>0</td>\n",
       "      <td>7</td>\n",
       "      <td>...</td>\n",
       "      <td>4</td>\n",
       "      <td>2</td>\n",
       "      <td>2</td>\n",
       "      <td>-52</td>\n",
       "      <td>2874</td>\n",
       "      <td>1</td>\n",
       "      <td>1796</td>\n",
       "      <td>0</td>\n",
       "      <td>51</td>\n",
       "      <td>0</td>\n",
       "    </tr>\n",
       "    <tr>\n",
       "      <th>1</th>\n",
       "      <td>1430220345</td>\n",
       "      <td>0</td>\n",
       "      <td>42</td>\n",
       "      <td>4</td>\n",
       "      <td>1188</td>\n",
       "      <td>1033</td>\n",
       "      <td>9</td>\n",
       "      <td>0</td>\n",
       "      <td>1</td>\n",
       "      <td>12</td>\n",
       "      <td>...</td>\n",
       "      <td>4</td>\n",
       "      <td>3</td>\n",
       "      <td>1</td>\n",
       "      <td>-5</td>\n",
       "      <td>2463</td>\n",
       "      <td>1</td>\n",
       "      <td>1974</td>\n",
       "      <td>0</td>\n",
       "      <td>63</td>\n",
       "      <td>1</td>\n",
       "    </tr>\n",
       "    <tr>\n",
       "      <th>2</th>\n",
       "      <td>1430227081</td>\n",
       "      <td>7</td>\n",
       "      <td>33</td>\n",
       "      <td>4</td>\n",
       "      <td>1319</td>\n",
       "      <td>1270</td>\n",
       "      <td>22</td>\n",
       "      <td>0</td>\n",
       "      <td>0</td>\n",
       "      <td>12</td>\n",
       "      <td>...</td>\n",
       "      <td>4</td>\n",
       "      <td>3</td>\n",
       "      <td>1</td>\n",
       "      <td>13</td>\n",
       "      <td>2130</td>\n",
       "      <td>0</td>\n",
       "      <td>0</td>\n",
       "      <td>1830</td>\n",
       "      <td>0</td>\n",
       "      <td>63</td>\n",
       "    </tr>\n",
       "    <tr>\n",
       "      <th>3</th>\n",
       "      <td>1430263531</td>\n",
       "      <td>1</td>\n",
       "      <td>29</td>\n",
       "      <td>4</td>\n",
       "      <td>1779</td>\n",
       "      <td>1056</td>\n",
       "      <td>14</td>\n",
       "      <td>0</td>\n",
       "      <td>0</td>\n",
       "      <td>5</td>\n",
       "      <td>...</td>\n",
       "      <td>4</td>\n",
       "      <td>2</td>\n",
       "      <td>0</td>\n",
       "      <td>27</td>\n",
       "      <td>1459</td>\n",
       "      <td>0</td>\n",
       "      <td>1920</td>\n",
       "      <td>2047</td>\n",
       "      <td>50</td>\n",
       "      <td>63</td>\n",
       "    </tr>\n",
       "    <tr>\n",
       "      <th>4</th>\n",
       "      <td>1430282290</td>\n",
       "      <td>7</td>\n",
       "      <td>13</td>\n",
       "      <td>4</td>\n",
       "      <td>1431</td>\n",
       "      <td>1090</td>\n",
       "      <td>8</td>\n",
       "      <td>1</td>\n",
       "      <td>0</td>\n",
       "      <td>8</td>\n",
       "      <td>...</td>\n",
       "      <td>3</td>\n",
       "      <td>3</td>\n",
       "      <td>0</td>\n",
       "      <td>-16</td>\n",
       "      <td>2449</td>\n",
       "      <td>0</td>\n",
       "      <td>4</td>\n",
       "      <td>1974</td>\n",
       "      <td>3</td>\n",
       "      <td>63</td>\n",
       "    </tr>\n",
       "    <tr>\n",
       "      <th>5</th>\n",
       "      <td>1430284186</td>\n",
       "      <td>1</td>\n",
       "      <td>11</td>\n",
       "      <td>5</td>\n",
       "      <td>1961</td>\n",
       "      <td>1461</td>\n",
       "      <td>19</td>\n",
       "      <td>0</td>\n",
       "      <td>1</td>\n",
       "      <td>6</td>\n",
       "      <td>...</td>\n",
       "      <td>4</td>\n",
       "      <td>4</td>\n",
       "      <td>0</td>\n",
       "      <td>-43</td>\n",
       "      <td>1453</td>\n",
       "      <td>0</td>\n",
       "      <td>512</td>\n",
       "      <td>2038</td>\n",
       "      <td>0</td>\n",
       "      <td>63</td>\n",
       "    </tr>\n",
       "    <tr>\n",
       "      <th>8</th>\n",
       "      <td>1430293701</td>\n",
       "      <td>1</td>\n",
       "      <td>8</td>\n",
       "      <td>3</td>\n",
       "      <td>967</td>\n",
       "      <td>1136</td>\n",
       "      <td>7</td>\n",
       "      <td>1</td>\n",
       "      <td>0</td>\n",
       "      <td>8</td>\n",
       "      <td>...</td>\n",
       "      <td>6</td>\n",
       "      <td>3</td>\n",
       "      <td>0</td>\n",
       "      <td>10</td>\n",
       "      <td>1968</td>\n",
       "      <td>0</td>\n",
       "      <td>1536</td>\n",
       "      <td>1983</td>\n",
       "      <td>12</td>\n",
       "      <td>63</td>\n",
       "    </tr>\n",
       "    <tr>\n",
       "      <th>9</th>\n",
       "      <td>1430299335</td>\n",
       "      <td>7</td>\n",
       "      <td>35</td>\n",
       "      <td>5</td>\n",
       "      <td>2117</td>\n",
       "      <td>1252</td>\n",
       "      <td>16</td>\n",
       "      <td>0</td>\n",
       "      <td>0</td>\n",
       "      <td>6</td>\n",
       "      <td>...</td>\n",
       "      <td>3</td>\n",
       "      <td>4</td>\n",
       "      <td>0</td>\n",
       "      <td>-15</td>\n",
       "      <td>4079</td>\n",
       "      <td>1</td>\n",
       "      <td>1540</td>\n",
       "      <td>0</td>\n",
       "      <td>63</td>\n",
       "      <td>0</td>\n",
       "    </tr>\n",
       "    <tr>\n",
       "      <th>11</th>\n",
       "      <td>1430308974</td>\n",
       "      <td>1</td>\n",
       "      <td>17</td>\n",
       "      <td>5</td>\n",
       "      <td>1527</td>\n",
       "      <td>906</td>\n",
       "      <td>10</td>\n",
       "      <td>0</td>\n",
       "      <td>1</td>\n",
       "      <td>7</td>\n",
       "      <td>...</td>\n",
       "      <td>3</td>\n",
       "      <td>4</td>\n",
       "      <td>0</td>\n",
       "      <td>26</td>\n",
       "      <td>3071</td>\n",
       "      <td>0</td>\n",
       "      <td>0</td>\n",
       "      <td>1572</td>\n",
       "      <td>0</td>\n",
       "      <td>63</td>\n",
       "    </tr>\n",
       "    <tr>\n",
       "      <th>12</th>\n",
       "      <td>1430316105</td>\n",
       "      <td>7</td>\n",
       "      <td>15</td>\n",
       "      <td>5</td>\n",
       "      <td>1651</td>\n",
       "      <td>1060</td>\n",
       "      <td>14</td>\n",
       "      <td>0</td>\n",
       "      <td>1</td>\n",
       "      <td>10</td>\n",
       "      <td>...</td>\n",
       "      <td>3</td>\n",
       "      <td>2</td>\n",
       "      <td>0</td>\n",
       "      <td>16</td>\n",
       "      <td>2384</td>\n",
       "      <td>0</td>\n",
       "      <td>0</td>\n",
       "      <td>2038</td>\n",
       "      <td>0</td>\n",
       "      <td>63</td>\n",
       "    </tr>\n",
       "    <tr>\n",
       "      <th>14</th>\n",
       "      <td>1430325079</td>\n",
       "      <td>1</td>\n",
       "      <td>22</td>\n",
       "      <td>5</td>\n",
       "      <td>1988</td>\n",
       "      <td>1804</td>\n",
       "      <td>21</td>\n",
       "      <td>1</td>\n",
       "      <td>0</td>\n",
       "      <td>6</td>\n",
       "      <td>...</td>\n",
       "      <td>2</td>\n",
       "      <td>2</td>\n",
       "      <td>1</td>\n",
       "      <td>34</td>\n",
       "      <td>912</td>\n",
       "      <td>1</td>\n",
       "      <td>2047</td>\n",
       "      <td>1974</td>\n",
       "      <td>63</td>\n",
       "      <td>63</td>\n",
       "    </tr>\n",
       "    <tr>\n",
       "      <th>15</th>\n",
       "      <td>1430330210</td>\n",
       "      <td>7</td>\n",
       "      <td>27</td>\n",
       "      <td>3</td>\n",
       "      <td>819</td>\n",
       "      <td>763</td>\n",
       "      <td>12</td>\n",
       "      <td>0</td>\n",
       "      <td>2</td>\n",
       "      <td>9</td>\n",
       "      <td>...</td>\n",
       "      <td>4</td>\n",
       "      <td>2</td>\n",
       "      <td>0</td>\n",
       "      <td>142</td>\n",
       "      <td>1001</td>\n",
       "      <td>0</td>\n",
       "      <td>0</td>\n",
       "      <td>2047</td>\n",
       "      <td>0</td>\n",
       "      <td>63</td>\n",
       "    </tr>\n",
       "    <tr>\n",
       "      <th>17</th>\n",
       "      <td>1430331421</td>\n",
       "      <td>1</td>\n",
       "      <td>68</td>\n",
       "      <td>2</td>\n",
       "      <td>611</td>\n",
       "      <td>500</td>\n",
       "      <td>0</td>\n",
       "      <td>0</td>\n",
       "      <td>0</td>\n",
       "      <td>6</td>\n",
       "      <td>...</td>\n",
       "      <td>5</td>\n",
       "      <td>2</td>\n",
       "      <td>0</td>\n",
       "      <td>-43</td>\n",
       "      <td>3270</td>\n",
       "      <td>1</td>\n",
       "      <td>1956</td>\n",
       "      <td>0</td>\n",
       "      <td>63</td>\n",
       "      <td>0</td>\n",
       "    </tr>\n",
       "    <tr>\n",
       "      <th>20</th>\n",
       "      <td>1430341277</td>\n",
       "      <td>1</td>\n",
       "      <td>26</td>\n",
       "      <td>3</td>\n",
       "      <td>739</td>\n",
       "      <td>585</td>\n",
       "      <td>4</td>\n",
       "      <td>0</td>\n",
       "      <td>0</td>\n",
       "      <td>11</td>\n",
       "      <td>...</td>\n",
       "      <td>3</td>\n",
       "      <td>4</td>\n",
       "      <td>3</td>\n",
       "      <td>22</td>\n",
       "      <td>1584</td>\n",
       "      <td>1</td>\n",
       "      <td>1974</td>\n",
       "      <td>1542</td>\n",
       "      <td>63</td>\n",
       "      <td>15</td>\n",
       "    </tr>\n",
       "    <tr>\n",
       "      <th>21</th>\n",
       "      <td>1430342692</td>\n",
       "      <td>1</td>\n",
       "      <td>29</td>\n",
       "      <td>2</td>\n",
       "      <td>430</td>\n",
       "      <td>642</td>\n",
       "      <td>1</td>\n",
       "      <td>0</td>\n",
       "      <td>1</td>\n",
       "      <td>5</td>\n",
       "      <td>...</td>\n",
       "      <td>4</td>\n",
       "      <td>1</td>\n",
       "      <td>0</td>\n",
       "      <td>19</td>\n",
       "      <td>1957</td>\n",
       "      <td>0</td>\n",
       "      <td>1796</td>\n",
       "      <td>1983</td>\n",
       "      <td>55</td>\n",
       "      <td>63</td>\n",
       "    </tr>\n",
       "  </tbody>\n",
       "</table>\n",
       "<p>15 rows × 108 columns</p>\n",
       "</div>"
      ],
      "text/plain": [
       "          start_time  lobby_type  r1_hero  r1_level  r1_xp  r1_gold  r1_lh  \\\n",
       "match_id                                                                     \n",
       "0         1430198770           7       11         5   2098     1489     20   \n",
       "1         1430220345           0       42         4   1188     1033      9   \n",
       "2         1430227081           7       33         4   1319     1270     22   \n",
       "3         1430263531           1       29         4   1779     1056     14   \n",
       "4         1430282290           7       13         4   1431     1090      8   \n",
       "5         1430284186           1       11         5   1961     1461     19   \n",
       "8         1430293701           1        8         3    967     1136      7   \n",
       "9         1430299335           7       35         5   2117     1252     16   \n",
       "11        1430308974           1       17         5   1527      906     10   \n",
       "12        1430316105           7       15         5   1651     1060     14   \n",
       "14        1430325079           1       22         5   1988     1804     21   \n",
       "15        1430330210           7       27         3    819      763     12   \n",
       "17        1430331421           1       68         2    611      500      0   \n",
       "20        1430341277           1       26         3    739      585      4   \n",
       "21        1430342692           1       29         2    430      642      1   \n",
       "\n",
       "          r1_kills  r1_deaths  r1_items          ...           \\\n",
       "match_id                                         ...            \n",
       "0                0          0         7          ...            \n",
       "1                0          1        12          ...            \n",
       "2                0          0        12          ...            \n",
       "3                0          0         5          ...            \n",
       "4                1          0         8          ...            \n",
       "5                0          1         6          ...            \n",
       "8                1          0         8          ...            \n",
       "9                0          0         6          ...            \n",
       "11               0          1         7          ...            \n",
       "12               0          1        10          ...            \n",
       "14               1          0         6          ...            \n",
       "15               0          2         9          ...            \n",
       "17               0          0         6          ...            \n",
       "20               0          0        11          ...            \n",
       "21               0          1         5          ...            \n",
       "\n",
       "          dire_boots_count  dire_ward_observer_count  dire_ward_sentry_count  \\\n",
       "match_id                                                                       \n",
       "0                        4                         2                       2   \n",
       "1                        4                         3                       1   \n",
       "2                        4                         3                       1   \n",
       "3                        4                         2                       0   \n",
       "4                        3                         3                       0   \n",
       "5                        4                         4                       0   \n",
       "8                        6                         3                       0   \n",
       "9                        3                         4                       0   \n",
       "11                       3                         4                       0   \n",
       "12                       3                         2                       0   \n",
       "14                       2                         2                       1   \n",
       "15                       4                         2                       0   \n",
       "17                       5                         2                       0   \n",
       "20                       3                         4                       3   \n",
       "21                       4                         1                       0   \n",
       "\n",
       "          dire_first_ward_time  duration  radiant_win  tower_status_radiant  \\\n",
       "match_id                                                                      \n",
       "0                          -52      2874            1                  1796   \n",
       "1                           -5      2463            1                  1974   \n",
       "2                           13      2130            0                     0   \n",
       "3                           27      1459            0                  1920   \n",
       "4                          -16      2449            0                     4   \n",
       "5                          -43      1453            0                   512   \n",
       "8                           10      1968            0                  1536   \n",
       "9                          -15      4079            1                  1540   \n",
       "11                          26      3071            0                     0   \n",
       "12                          16      2384            0                     0   \n",
       "14                          34       912            1                  2047   \n",
       "15                         142      1001            0                     0   \n",
       "17                         -43      3270            1                  1956   \n",
       "20                          22      1584            1                  1974   \n",
       "21                          19      1957            0                  1796   \n",
       "\n",
       "          tower_status_dire  barracks_status_radiant  barracks_status_dire  \n",
       "match_id                                                                    \n",
       "0                         0                       51                     0  \n",
       "1                         0                       63                     1  \n",
       "2                      1830                        0                    63  \n",
       "3                      2047                       50                    63  \n",
       "4                      1974                        3                    63  \n",
       "5                      2038                        0                    63  \n",
       "8                      1983                       12                    63  \n",
       "9                         0                       63                     0  \n",
       "11                     1572                        0                    63  \n",
       "12                     2038                        0                    63  \n",
       "14                     1974                       63                    63  \n",
       "15                     2047                        0                    63  \n",
       "17                        0                       63                     0  \n",
       "20                     1542                       63                    15  \n",
       "21                     1983                       55                    63  \n",
       "\n",
       "[15 rows x 108 columns]"
      ]
     },
     "execution_count": 4,
     "metadata": {},
     "output_type": "execute_result"
    }
   ],
   "source": [
    "import pandas\n",
    "features = pandas.read_csv('./features.csv', index_col='match_id')\n",
    "\n",
    "print features.shape\n",
    "features.head(15)"
   ]
  },
  {
   "cell_type": "code",
   "execution_count": 5,
   "metadata": {
    "collapsed": false
   },
   "outputs": [],
   "source": [
    "features.drop(['duration', 'tower_status_radiant', 'tower_status_dire',\n",
    "               'barracks_status_radiant', 'barracks_status_dire'],\n",
    "              axis = 1, inplace = True)"
   ]
  },
  {
   "cell_type": "markdown",
   "metadata": {},
   "source": [
    "## 2. Проверка выборки на наличие пропущенных данных."
   ]
  },
  {
   "cell_type": "code",
   "execution_count": 6,
   "metadata": {
    "collapsed": false
   },
   "outputs": [
    {
     "name": "stdout",
     "output_type": "stream",
     "text": [
      "first_blood_time               77677\n",
      "first_blood_team               77677\n",
      "first_blood_player1            77677\n",
      "first_blood_player2            53243\n",
      "radiant_bottle_time            81539\n",
      "radiant_courier_time           96538\n",
      "radiant_flying_courier_time    69751\n",
      "radiant_first_ward_time        95394\n",
      "dire_bottle_time               81087\n",
      "dire_courier_time              96554\n",
      "dire_flying_courier_time       71132\n",
      "dire_first_ward_time           95404\n",
      "dtype: int64\n"
     ]
    }
   ],
   "source": [
    "filled_count = features.count()\n",
    "filled_count = filled_count[filled_count != features.shape[0]]\n",
    "print filled_count"
   ]
  },
  {
   "cell_type": "markdown",
   "metadata": {},
   "source": [
    "1. Признаки \"first_blood_time\", \"first_blood_team\", \"first_blood_player1\" - имеют одинаковое количество пропущенных данных. Логично предположить что данных нет в том случае, если \"первая кровь\" не случилось в течении 5 минут после старта игры.\n",
    "2. Признак \"first_blood_player2\" так же относится к характеристикам события \"первая кровь\", но имеет большее количество пропущенных данных. Связано это наверное с тем что событие \"первая кровь\" не всегда включало второго игрока который помог это реализовать (первое убийство было совершено каким либо игроком без помощи его партнеров).\n",
    "3. Признаки \"radiant/dire_bottle_time\", \"radiant/dire_courier_time\", \"radiant/dire_flying_courier_time\", \"radiant/dire_first_ward_time\" отсутствуют в части данных по причине того что те или иные предметы не были куплены за первые 5 минут одной из команд."
   ]
  },
  {
   "cell_type": "markdown",
   "metadata": {},
   "source": [
    "## 3. Замена пропущенных данных"
   ]
  },
  {
   "cell_type": "code",
   "execution_count": 7,
   "metadata": {
    "collapsed": false
   },
   "outputs": [
    {
     "name": "stdout",
     "output_type": "stream",
     "text": [
      "Series([], dtype: int64)\n"
     ]
    }
   ],
   "source": [
    "features = features.fillna(0)\n",
    "filled_count = features.count()\n",
    "filled_count = filled_count[filled_count != features.shape[0]]\n",
    "print filled_count"
   ]
  },
  {
   "cell_type": "markdown",
   "metadata": {},
   "source": [
    "## 4. Какой стобец содержит целевую переменну?"
   ]
  },
  {
   "cell_type": "code",
   "execution_count": 8,
   "metadata": {
    "collapsed": false
   },
   "outputs": [
    {
     "name": "stdout",
     "output_type": "stream",
     "text": [
      "radiant_win\n"
     ]
    }
   ],
   "source": [
    "print \"radiant_win\""
   ]
  },
  {
   "cell_type": "code",
   "execution_count": 9,
   "metadata": {
    "collapsed": false
   },
   "outputs": [],
   "source": [
    "import numpy as np\n",
    "\n",
    "target = np.array(features['radiant_win'])\n",
    "features.drop('radiant_win', axis = 1, inplace = True)"
   ]
  },
  {
   "cell_type": "code",
   "execution_count": 10,
   "metadata": {
    "collapsed": false
   },
   "outputs": [
    {
     "name": "stdout",
     "output_type": "stream",
     "text": [
      "(97230, 102)\n",
      "[1 1 0 ..., 0 0 1]\n"
     ]
    }
   ],
   "source": [
    "features_gbm = features.as_matrix()\n",
    "print features_gbm.shape\n",
    "print target"
   ]
  },
  {
   "cell_type": "markdown",
   "metadata": {},
   "source": [
    "##5. Обучение модели."
   ]
  },
  {
   "cell_type": "code",
   "execution_count": 11,
   "metadata": {
    "collapsed": false
   },
   "outputs": [
    {
     "name": "stdout",
     "output_type": "stream",
     "text": [
      "score - 0.663702906621, time - 0.224034599463\n",
      "score - 0.661589690375, time - 0.218166700999\n",
      "score - 0.66474918126, time - 0.2173655351\n",
      "score - 0.667548474413, time - 0.295690866311\n",
      "score - 0.662815561219, time - 0.277170666059\n",
      "score - 0.681896781077, time - 0.476887313525\n",
      "score - 0.682989455676, time - 0.455286749204\n",
      "score - 0.680289008934, time - 0.448336815834\n",
      "score - 0.685259504701, time - 0.419909799099\n",
      "score - 0.677487510999, time - 0.45917503039\n",
      "score - 0.688698387721, time - 0.662212685744\n",
      "score - 0.691611635993, time - 0.653836234411\n",
      "score - 0.689371715976, time - 0.642866635323\n",
      "score - 0.69116240857, time - 0.653055516879\n",
      "score - 0.685463870226, time - 0.668648417791\n",
      "score - 0.693110718645, time - 0.867354186376\n",
      "score - 0.696059935907, time - 0.804435066382\n",
      "score - 0.693676387087, time - 0.772638968627\n",
      "score - 0.696013071129, time - 0.810420831045\n",
      "score - 0.690849736091, time - 0.882886219025\n",
      "[{'score': 0.66408116277768658, 'mean_fit_time': 0.24648567358652751, 'time': 1.2324283679326375, 'ntree': 10}, {'score': 0.6815844522771497, 'mean_fit_time': 0.45191914161046343, 'time': 2.2595957080523172, 'ntree': 20}, {'score': 0.68926160369722589, 'mean_fit_time': 0.65612389802932736, 'time': 3.2806194901466368, 'ntree': 30}, {'score': 0.6939419697719108, 'mean_fit_time': 0.82754705429077158, 'time': 4.1377352714538578, 'ntree': 40}]\n"
     ]
    }
   ],
   "source": [
    "from sklearn.cross_validation import KFold\n",
    "from sklearn.metrics import roc_auc_score\n",
    "from sklearn.ensemble import GradientBoostingClassifier\n",
    "import time\n",
    "\n",
    "kfold = KFold(n = features.shape[0], n_folds=5, shuffle=True)\n",
    "\n",
    "ntrees = [10, 20, 30, 40]\n",
    "\n",
    "features_gbm = features.as_matrix()\n",
    "\n",
    "result_gbm = []\n",
    "\n",
    "for ntree in ntrees:\n",
    "    scores = []\n",
    "    times  = []\n",
    "    for train_index, test_index in kfold:\n",
    "        features_train, features_test = features_gbm[train_index], features_gbm[test_index]\n",
    "        target_train, target_test = target[train_index], target[test_index]\n",
    "        \n",
    "        start_time = time.time()\n",
    "        clf = GradientBoostingClassifier(n_estimators=ntree, verbose = False)\n",
    "        clf.fit(features_train, target_train)\n",
    "        \n",
    "        time_took = (time.time() - start_time)/60\n",
    "        preds = clf.predict_proba(features_test)\n",
    "        score = roc_auc_score(target_test, preds[:,1])\n",
    "        \n",
    "        scores.append(score)\n",
    "        times.append(time_took)\n",
    "        print \"score - {0}, time - {1}\".format(score, time_took)\n",
    "    \n",
    "    result_gbm.append({'ntree' : ntree, 'score' : np.mean(scores), 'time' : np.sum(times), 'mean_fit_time' : np.mean(times)})\n",
    "    \n",
    "print result_gbm"
   ]
  },
  {
   "cell_type": "markdown",
   "metadata": {},
   "source": [
    "#Part 2: Logistic Regression"
   ]
  },
  {
   "cell_type": "markdown",
   "metadata": {},
   "source": [
    "## 1. Оценка качества логистической регрессии \"в лоб\"."
   ]
  },
  {
   "cell_type": "code",
   "execution_count": 12,
   "metadata": {
    "collapsed": false
   },
   "outputs": [
    {
     "name": "stdout",
     "output_type": "stream",
     "text": [
      "score - 0.715891979091, time - 0.04811668396\n",
      "score - 0.724322570211, time - 0.0446375648181\n",
      "score - 0.717251245067, time - 0.046207801501\n",
      "score - 0.713066503779, time - 0.0481929659843\n",
      "score - 0.711300606041, time - 0.0445393323898\n",
      "score - 0.715806735465, time - 0.0507471521695\n",
      "score - 0.724340033775, time - 0.0493570804596\n",
      "score - 0.717231010372, time - 0.0531502008438\n",
      "score - 0.713101165603, time - 0.0558500846227\n",
      "score - 0.711228647528, time - 0.0630105177561\n",
      "score - 0.71579513928, time - 0.0644244154294\n",
      "score - 0.72434070097, time - 0.0513360500336\n",
      "score - 0.71722725477, time - 0.0589195847511\n",
      "score - 0.713101451452, time - 0.0502578655879\n",
      "score - 0.7112186961, time - 0.047961684068\n",
      "score - 0.715793814304, time - 0.0522996822993\n",
      "score - 0.724341574677, time - 0.0430809696515\n",
      "score - 0.71722664561, time - 0.0602185487747\n",
      "score - 0.713101790236, time - 0.0507186333338\n",
      "score - 0.711218325371, time - 0.0527316331863\n",
      "[{'l2_penalty': 0.01, 'score': 0.71636658083796279, 'mean_fit_time': 0.046338869730631518, 'time': 0.23169434865315758}, {'l2_penalty': 0.1, 'score': 0.71634151854848027, 'mean_fit_time': 0.054423007170359292, 'time': 0.27211503585179647}, {'l2_penalty': 1, 'score': 0.71633664851420353, 'mean_fit_time': 0.054579919974009197, 'time': 0.27289959987004597}, {'l2_penalty': 10, 'score': 0.71633643003965841, 'mean_fit_time': 0.051809893449147548, 'time': 0.25904946724573774}]\n"
     ]
    }
   ],
   "source": [
    "from sklearn.cross_validation import KFold\n",
    "from sklearn.metrics import roc_auc_score\n",
    "from sklearn.linear_model import LogisticRegression\n",
    "from sklearn.preprocessing import StandardScaler\n",
    "from sklearn.preprocessing import MinMaxScaler\n",
    "import time\n",
    "\n",
    "features_lr = features.as_matrix()\n",
    "\n",
    "kfold = KFold(n = features.shape[0], n_folds=5, shuffle=True)\n",
    "\n",
    "C_s = [0.01, 0.1, 1, 10]\n",
    "result_lr_1 = []\n",
    "\n",
    "for C in C_s:\n",
    "    scores = []\n",
    "    times  = []\n",
    "    for train_index, test_index in kfold:\n",
    "        features_train, features_test = features_lr[train_index], features_lr[test_index]\n",
    "        target_train, target_test = target[train_index], target[test_index]\n",
    "        \n",
    "        scaler = StandardScaler()\n",
    "        \n",
    "        features_train = scaler.fit_transform(features_train) \n",
    "        features_test  = scaler.transform(features_test)\n",
    "        \n",
    "        start_time = time.time()\n",
    "        clf = LogisticRegression(C = C)\n",
    "        clf.fit(features_train, target_train)\n",
    "        time_took = (time.time() - start_time)/60\n",
    "        \n",
    "        preds = clf.predict_proba(features_test)\n",
    "        score = roc_auc_score(target_test, preds[:,1])\n",
    "        scores.append(score)\n",
    "        times.append(time_took)\n",
    "        print \"score - {0}, time - {1}\".format(score, time_took)\n",
    "    \n",
    "    result_lr_1.append({'l2_penalty' : C, 'score' : np.mean(scores), 'time' : np.sum(times), 'mean_fit_time' : np.mean(times)})\n",
    "    \n",
    "print result_lr_1"
   ]
  },
  {
   "cell_type": "markdown",
   "metadata": {
    "collapsed": true
   },
   "source": [
    "## 2. Оценка качества логистической регресси без категориальных признаков - \"почти в лоб\"."
   ]
  },
  {
   "cell_type": "code",
   "execution_count": 13,
   "metadata": {
    "collapsed": false
   },
   "outputs": [
    {
     "name": "stdout",
     "output_type": "stream",
     "text": [
      "score - 0.713508225353, time - 0.0427851835887\n",
      "score - 0.710538725417, time - 0.0426883180936\n",
      "score - 0.713867742462, time - 0.0428750197093\n",
      "score - 0.721033528209, time - 0.0460892995199\n",
      "score - 0.723995609568, time - 0.0410315990448\n",
      "score - 0.713394000003, time - 0.0458480517069\n",
      "score - 0.710606476998, time - 0.0460638165474\n",
      "score - 0.713825041683, time - 0.0476210355759\n",
      "score - 0.721062729093, time - 0.042737086614\n",
      "score - 0.723971774332, time - 0.0531951506933\n",
      "score - 0.713383775688, time - 0.0437853336334\n",
      "score - 0.710614043783, time - 0.0417170643806\n",
      "score - 0.713822092968, time - 0.0442290147146\n",
      "score - 0.721062321171, time - 0.0419942498207\n",
      "score - 0.723966574784, time - 0.0489133318265\n",
      "score - 0.713384114557, time - 0.0500036001205\n",
      "score - 0.710614928075, time - 0.0409282326698\n",
      "score - 0.713821431228, time - 0.0440425197283\n",
      "score - 0.72106298868, time - 0.0417982300123\n",
      "score - 0.723966569484, time - 0.0449955662092\n",
      "[{'l2_penalty': 0.01, 'score': 0.71658876620178458, 'mean_fit_time': 0.043093883991241456, 'time': 0.21546941995620728}, {'l2_penalty': 0.1, 'score': 0.71657200442202262, 'mean_fit_time': 0.047093028227488197, 'time': 0.23546514113744099}, {'l2_penalty': 1, 'score': 0.71656976167894582, 'mean_fit_time': 0.04412779887517293, 'time': 0.22063899437586465}, {'l2_penalty': 10, 'score': 0.71657000640487833, 'mean_fit_time': 0.044353629748026528, 'time': 0.22176814874013265}]\n"
     ]
    }
   ],
   "source": [
    "from sklearn.cross_validation import KFold\n",
    "from sklearn.metrics import roc_auc_score\n",
    "from sklearn.linear_model import LogisticRegression\n",
    "from sklearn.preprocessing import StandardScaler\n",
    "from sklearn.preprocessing import MinMaxScaler\n",
    "import time\n",
    "\n",
    "features_lr = features.drop(['lobby_type', 'r1_hero', 'r2_hero', 'r3_hero', 'r4_hero',\n",
    "                             'r5_hero', 'd1_hero', 'd2_hero', 'd3_hero', 'd4_hero', 'd5_hero'], axis = 1).as_matrix()\n",
    "\n",
    "kfold = KFold(n = features.shape[0], n_folds=5, shuffle=True)\n",
    "\n",
    "C_s = [0.01, 0.1, 1, 10]\n",
    "result_lr_2 = []\n",
    "\n",
    "for C in C_s:\n",
    "    scores = []\n",
    "    times  = []\n",
    "    for train_index, test_index in kfold:\n",
    "        features_train, features_test = features_lr[train_index], features_lr[test_index]\n",
    "        target_train, target_test = target[train_index], target[test_index]\n",
    "        \n",
    "        scaler = StandardScaler()\n",
    "        features_train = scaler.fit_transform(features_train) \n",
    "        features_test  = scaler.transform(features_test)\n",
    "        \n",
    "        start_time = time.time()\n",
    "        clf = LogisticRegression(C = C)\n",
    "        clf.fit(features_train, target_train)\n",
    "        time_took = (time.time() - start_time)/60\n",
    "        \n",
    "        preds = clf.predict_proba(features_test)\n",
    "        score = roc_auc_score(target_test, preds[:,1])\n",
    "        scores.append(score)\n",
    "        times.append(time_took)\n",
    "        print \"score - {0}, time - {1}\".format(score, time_took)\n",
    "    \n",
    "    result_lr_2.append({'l2_penalty' : C, 'score' : np.mean(scores), 'time' : np.sum(times), 'mean_fit_time' : np.mean(times)})\n",
    "    \n",
    "print result_lr_2"
   ]
  },
  {
   "cell_type": "markdown",
   "metadata": {},
   "source": [
    "\n",
    "## 3. Подсчет количества уникальных идентификаторов."
   ]
  },
  {
   "cell_type": "code",
   "execution_count": 14,
   "metadata": {
    "collapsed": false
   },
   "outputs": [
    {
     "name": "stdout",
     "output_type": "stream",
     "text": [
      "Unique herois in r1_hero equal to (108,). MaxId - 112, MinId - 1\n",
      "Unique herois in r2_hero equal to (108,). MaxId - 112, MinId - 1\n",
      "Unique herois in r3_hero equal to (108,). MaxId - 112, MinId - 1\n",
      "Unique herois in r4_hero equal to (108,). MaxId - 112, MinId - 1\n",
      "Unique herois in r5_hero equal to (108,). MaxId - 112, MinId - 1\n",
      "Unique herois in d1_hero equal to (108,). MaxId - 112, MinId - 1\n",
      "Unique herois in d2_hero equal to (108,). MaxId - 112, MinId - 1\n",
      "Unique herois in d3_hero equal to (108,). MaxId - 112, MinId - 1\n",
      "Unique herois in d4_hero equal to (108,). MaxId - 112, MinId - 1\n",
      "Unique herois in d5_hero equal to (108,). MaxId - 112, MinId - 1\n"
     ]
    }
   ],
   "source": [
    "hero_features = ['r1_hero', 'r2_hero', 'r3_hero', 'r4_hero',\n",
    "                             'r5_hero', 'd1_hero', 'd2_hero', 'd3_hero', 'd4_hero', 'd5_hero']\n",
    "\n",
    "for feat in hero_features:\n",
    "    print \"Unique herois in {0} equal to {1}. MaxId - {2}, MinId - {3}\".format(feat, features[feat].value_counts().shape, max(features[feat]), min(features[feat]))"
   ]
  },
  {
   "cell_type": "markdown",
   "metadata": {},
   "source": [
    "## 4. Добавление категориальных признаков"
   ]
  },
  {
   "cell_type": "code",
   "execution_count": 15,
   "metadata": {
    "collapsed": false
   },
   "outputs": [],
   "source": [
    "import numpy as np\n",
    "\n",
    "# N — количество различных героев в выборке\n",
    "features_pick = np.zeros((features.shape[0], 112))\n",
    "\n",
    "for i, match_id in enumerate(features.index):\n",
    "    for p in xrange(5):\n",
    "        features_pick[i, features.ix[match_id, 'r%d_hero' % (p+1)]-1] = 1\n",
    "        features_pick[i, features.ix[match_id, 'd%d_hero' % (p+1)]-1] = -1"
   ]
  },
  {
   "cell_type": "markdown",
   "metadata": {},
   "source": [
    "## 5. Построение логистической регресси на основании новых данных."
   ]
  },
  {
   "cell_type": "code",
   "execution_count": 16,
   "metadata": {
    "collapsed": false
   },
   "outputs": [
    {
     "name": "stdout",
     "output_type": "stream",
     "text": [
      "score - 0.749818444827, time - 0.0750632683436\n",
      "score - 0.756459817724, time - 0.0658071160316\n",
      "score - 0.750458193583, time - 0.0663942654928\n",
      "score - 0.752478724356, time - 0.0616011023521\n",
      "score - 0.749343151829, time - 0.0703068852425\n",
      "score - 0.750122158016, time - 0.0889361182849\n",
      "score - 0.756593761662, time - 0.0919057488441\n",
      "score - 0.750642399036, time - 0.103681766987\n",
      "score - 0.752369230506, time - 0.102071619034\n",
      "score - 0.749865678632, time - 0.100662330786\n",
      "score - 0.750125251563, time - 0.107108517488\n",
      "score - 0.756571759801, time - 0.102887733777\n",
      "score - 0.750629945993, time - 0.101262732347\n",
      "score - 0.752317216425, time - 0.0963414510091\n",
      "score - 0.749881501705, time - 0.0943530837695\n",
      "score - 0.750127137355, time - 0.096683382988\n",
      "score - 0.756569604625, time - 0.0987997810046\n",
      "score - 0.750624977488, time - 0.115884880225\n",
      "score - 0.752310601459, time - 0.115093433857\n",
      "score - 0.749882942092, time - 0.111285499732\n",
      "[{'l2_penalty': 0.01, 'score': 0.75171166646389243, 'mean_fit_time': 0.067834527492523194, 'time': 0.33917263746261594}, {'l2_penalty': 0.1, 'score': 0.75191864557019983, 'mean_fit_time': 0.097451516787211104, 'time': 0.48725758393605551}, {'l2_penalty': 1, 'score': 0.75190513509740287, 'mean_fit_time': 0.1003907036781311, 'time': 0.5019535183906555}, {'l2_penalty': 10, 'score': 0.75190305260374257, 'mean_fit_time': 0.10754939556121827, 'time': 0.53774697780609138}]\n"
     ]
    }
   ],
   "source": [
    "import scipy.sparse\n",
    "from sklearn.cross_validation import KFold\n",
    "from sklearn.metrics import roc_auc_score\n",
    "from sklearn.linear_model import LogisticRegression\n",
    "from sklearn.preprocessing import StandardScaler\n",
    "from sklearn.preprocessing import MinMaxScaler\n",
    "import time\n",
    "import pandas as pd\n",
    "\n",
    "features_lr = features.drop(['lobby_type', 'r1_hero', 'r2_hero', 'r3_hero', 'r4_hero',\n",
    "                             'r5_hero', 'd1_hero', 'd2_hero', 'd3_hero', 'd4_hero', 'd5_hero'], axis = 1).as_matrix()\n",
    "# Some fix to not scal features_pick\n",
    "kfold = KFold(n = features_lr.shape[0], n_folds=5, shuffle=True)\n",
    "\n",
    "C_s = [0.01, 0.1, 1, 10]\n",
    "result_lr_3 = []\n",
    "\n",
    "for C in C_s:\n",
    "    scores = []\n",
    "    times  = []\n",
    "    for train_index, test_index in kfold:\n",
    "        features_train, features_test = features_lr[train_index], features_lr[test_index]\n",
    "        features_pick_train, features_pick_test = features_pick[train_index], features_pick[test_index]\n",
    "        target_train, target_test = target[train_index], target[test_index]\n",
    "        \n",
    "        scaler = StandardScaler()\n",
    "        features_train = scaler.fit_transform(features_train) \n",
    "        features_test  = scaler.transform(features_test)\n",
    "        \n",
    "        features_train = np.hstack([features_train, features_pick_train])\n",
    "        features_test = np.hstack([features_test, features_pick_test])\n",
    "\n",
    "        start_time = time.time()\n",
    "        clf = LogisticRegression(C = C)\n",
    "        clf.fit(features_train, target_train)\n",
    "        time_took = (time.time() - start_time)/60\n",
    "        \n",
    "        preds = clf.predict_proba(features_test)\n",
    "        score = roc_auc_score(target_test, preds[:,1])\n",
    "        scores.append(score)\n",
    "        times.append(time_took)\n",
    "        print \"score - {0}, time - {1}\".format(score, time_took)\n",
    "    \n",
    "    result_lr_3.append({'l2_penalty' : C, 'score' : np.mean(scores), 'time' : np.sum(times), 'mean_fit_time' : np.mean(times)})\n",
    "    \n",
    "print result_lr_3"
   ]
  },
  {
   "cell_type": "markdown",
   "metadata": {
    "collapsed": true
   },
   "source": [
    "## 6. Построение прогноза лучшей модели (логистической регрессии на тестовую выборку)"
   ]
  },
  {
   "cell_type": "code",
   "execution_count": 17,
   "metadata": {
    "collapsed": false
   },
   "outputs": [],
   "source": [
    "# From scratch\n",
    "l2_penalty = 0.1\n",
    "\n",
    "import pandas\n",
    "features_test = pandas.read_csv('./features_test.csv', index_col='match_id')\n",
    "features_test = features_test.fillna(0)"
   ]
  },
  {
   "cell_type": "code",
   "execution_count": 18,
   "metadata": {
    "collapsed": true
   },
   "outputs": [],
   "source": [
    "import numpy as np\n",
    "\n",
    "# N — количество различных героев в выборке\n",
    "features_test_pick = np.zeros((features_test.shape[0], 112))\n",
    "\n",
    "for i, match_id in enumerate(features_test.index):\n",
    "    for p in xrange(5):\n",
    "        features_test_pick[i, features_test.ix[match_id, 'r%d_hero' % (p+1)]-1] = 1\n",
    "        features_test_pick[i, features_test.ix[match_id, 'd%d_hero' % (p+1)]-1] = -1"
   ]
  },
  {
   "cell_type": "code",
   "execution_count": 19,
   "metadata": {
    "collapsed": true
   },
   "outputs": [],
   "source": [
    "features_test = features_test.drop(['lobby_type', 'r1_hero', 'r2_hero', 'r3_hero', 'r4_hero',\n",
    "                             'r5_hero', 'd1_hero', 'd2_hero', 'd3_hero', 'd4_hero', 'd5_hero'], axis = 1).as_matrix()\n",
    "features_train_pick = features_pick"
   ]
  },
  {
   "cell_type": "code",
   "execution_count": 20,
   "metadata": {
    "collapsed": true
   },
   "outputs": [],
   "source": [
    "# So at this stage we have:\n",
    "# features_test      -> test data\n",
    "# features_test_pick -> test pick data\n",
    "# =====================================\n",
    "# features_train -> train data\n",
    "# features_train_pick -> train_pick_data\n",
    "features_train = features_lr"
   ]
  },
  {
   "cell_type": "code",
   "execution_count": 21,
   "metadata": {
    "collapsed": false
   },
   "outputs": [
    {
     "name": "stdout",
     "output_type": "stream",
     "text": [
      "Train shape - (97230, 91)\n",
      "Test shape - (17177, 91)\n",
      "Train shape pick - (97230, 112)\n",
      "Test shape pick - (17177, 112)\n"
     ]
    }
   ],
   "source": [
    "print \"Train shape - {0}\".format(features_train.shape)\n",
    "print \"Test shape - {0}\".format(features_test.shape)\n",
    "\n",
    "print \"Train shape pick - {0}\".format(features_train_pick.shape)\n",
    "print \"Test shape pick - {0}\".format(features_test_pick.shape)"
   ]
  },
  {
   "cell_type": "code",
   "execution_count": 22,
   "metadata": {
    "collapsed": false
   },
   "outputs": [],
   "source": [
    "scaler = StandardScaler()\n",
    "features_train = scaler.fit_transform(features_train) \n",
    "features_test  = scaler.transform(features_test)\n",
    "        \n",
    "features_train = np.hstack([features_train, features_train_pick])\n",
    "features_test = np.hstack([features_test, features_test_pick])"
   ]
  },
  {
   "cell_type": "code",
   "execution_count": 23,
   "metadata": {
    "collapsed": false
   },
   "outputs": [
    {
     "data": {
      "text/plain": [
       "LogisticRegression(C=0.1, class_weight=None, dual=False, fit_intercept=True,\n",
       "          intercept_scaling=1, penalty='l2', random_state=None, tol=0.0001)"
      ]
     },
     "execution_count": 23,
     "metadata": {},
     "output_type": "execute_result"
    }
   ],
   "source": [
    "clf = LogisticRegression(C = l2_penalty)\n",
    "clf.fit(features_train, target)"
   ]
  },
  {
   "cell_type": "code",
   "execution_count": 24,
   "metadata": {
    "collapsed": true
   },
   "outputs": [],
   "source": [
    "prediction = clf.predict_proba(features_test)[:,1]"
   ]
  },
  {
   "cell_type": "code",
   "execution_count": 25,
   "metadata": {
    "collapsed": false
   },
   "outputs": [
    {
     "name": "stdout",
     "output_type": "stream",
     "text": [
      "[ 0.82393808  0.7529729   0.18805993 ...,  0.23449531  0.62500024\n",
      "  0.4260529 ]\n"
     ]
    }
   ],
   "source": [
    "print prediction"
   ]
  },
  {
   "cell_type": "code",
   "execution_count": 26,
   "metadata": {
    "collapsed": false
   },
   "outputs": [
    {
     "name": "stdout",
     "output_type": "stream",
     "text": [
      "0.996371319615\n"
     ]
    }
   ],
   "source": [
    "print max(prediction)"
   ]
  },
  {
   "cell_type": "code",
   "execution_count": 27,
   "metadata": {
    "collapsed": false
   },
   "outputs": [
    {
     "name": "stdout",
     "output_type": "stream",
     "text": [
      "0.00842943425679\n"
     ]
    }
   ],
   "source": [
    "print min(prediction)"
   ]
  },
  {
   "cell_type": "code",
   "execution_count": 28,
   "metadata": {
    "collapsed": false
   },
   "outputs": [
    {
     "ename": "NameError",
     "evalue": "name 'test_ids' is not defined",
     "output_type": "error",
     "traceback": [
      "\u001b[0;31m---------------------------------------------------------------------------\u001b[0m",
      "\u001b[0;31mNameError\u001b[0m                                 Traceback (most recent call last)",
      "\u001b[0;32m<ipython-input-28-9f810482ea3a>\u001b[0m in \u001b[0;36m<module>\u001b[0;34m()\u001b[0m\n\u001b[0;32m----> 1\u001b[0;31m \u001b[0mtest_ids\u001b[0m\u001b[0;34m\u001b[0m\u001b[0m\n\u001b[0m",
      "\u001b[0;31mNameError\u001b[0m: name 'test_ids' is not defined"
     ]
    }
   ],
   "source": [
    "test_ids"
   ]
  },
  {
   "cell_type": "code",
   "execution_count": null,
   "metadata": {
    "collapsed": false
   },
   "outputs": [],
   "source": [
    "result = pd.DataFrame({'match_id' : test_ids, 'radiant_win' : prediction})"
   ]
  },
  {
   "cell_type": "code",
   "execution_count": null,
   "metadata": {
    "collapsed": true
   },
   "outputs": [],
   "source": [
    "result.to_csv(\"subm.csv\", index=False)"
   ]
  },
  {
   "cell_type": "markdown",
   "metadata": {
    "collapsed": true
   },
   "source": [
    "Качество модели на тестовой выборке 0.75529"
   ]
  },
  {
   "cell_type": "markdown",
   "metadata": {
    "collapsed": true
   },
   "source": [
    "## Xgboost + new Features"
   ]
  },
  {
   "cell_type": "code",
   "execution_count": 29,
   "metadata": {
    "collapsed": true
   },
   "outputs": [],
   "source": [
    "import xgboost as xgb"
   ]
  },
  {
   "cell_type": "code",
   "execution_count": 30,
   "metadata": {
    "collapsed": false
   },
   "outputs": [],
   "source": [
    "dtrain = xgb.DMatrix(features_train, label=target)"
   ]
  },
  {
   "cell_type": "code",
   "execution_count": 31,
   "metadata": {
    "collapsed": true
   },
   "outputs": [],
   "source": [
    "dtest = xgb.DMatrix(features_test)\n"
   ]
  },
  {
   "cell_type": "code",
   "execution_count": 33,
   "metadata": {
    "collapsed": false
   },
   "outputs": [
    {
     "ename": "NameError",
     "evalue": "name 'plst' is not defined",
     "output_type": "error",
     "traceback": [
      "\u001b[0;31m---------------------------------------------------------------------------\u001b[0m",
      "\u001b[0;31mNameError\u001b[0m                                 Traceback (most recent call last)",
      "\u001b[0;32m<ipython-input-33-d23cf61e83e9>\u001b[0m in \u001b[0;36m<module>\u001b[0;34m()\u001b[0m\n\u001b[1;32m      3\u001b[0m \u001b[0mparam\u001b[0m\u001b[0;34m[\u001b[0m\u001b[0;34m'eval_metric'\u001b[0m\u001b[0;34m]\u001b[0m \u001b[0;34m=\u001b[0m \u001b[0;34m'auc'\u001b[0m\u001b[0;34m\u001b[0m\u001b[0m\n\u001b[1;32m      4\u001b[0m \u001b[0mnum_round\u001b[0m \u001b[0;34m=\u001b[0m \u001b[0;36m100\u001b[0m\u001b[0;34m\u001b[0m\u001b[0m\n\u001b[0;32m----> 5\u001b[0;31m \u001b[0mbst\u001b[0m \u001b[0;34m=\u001b[0m \u001b[0mxgb\u001b[0m\u001b[0;34m.\u001b[0m\u001b[0mcv\u001b[0m\u001b[0;34m(\u001b[0m\u001b[0mplst\u001b[0m\u001b[0;34m,\u001b[0m \u001b[0mdtrain\u001b[0m\u001b[0;34m,\u001b[0m \u001b[0mnum_round\u001b[0m\u001b[0;34m,\u001b[0m \u001b[0mnfold\u001b[0m \u001b[0;34m=\u001b[0m \u001b[0;36m4\u001b[0m\u001b[0;34m)\u001b[0m\u001b[0;34m\u001b[0m\u001b[0m\n\u001b[0m",
      "\u001b[0;31mNameError\u001b[0m: name 'plst' is not defined"
     ]
    }
   ],
   "source": [
    "param = {'bst:max_depth':7, 'bst:eta':1, 'silent':1, 'objective':'binary:logistic' }\n",
    "param['nthread'] = 4\n",
    "param['eval_metric'] = 'auc'\n",
    "num_round = 100\n",
    "bst = xgb.cv(plst, dtrain, num_round, nfold = 4)"
   ]
  },
  {
   "cell_type": "code",
   "execution_count": null,
   "metadata": {
    "collapsed": true
   },
   "outputs": [],
   "source": []
  }
 ],
 "metadata": {
  "kernelspec": {
   "display_name": "Python 2",
   "language": "python",
   "name": "python2"
  },
  "language_info": {
   "codemirror_mode": {
    "name": "ipython",
    "version": 2
   },
   "file_extension": ".py",
   "mimetype": "text/x-python",
   "name": "python",
   "nbconvert_exporter": "python",
   "pygments_lexer": "ipython2",
   "version": "2.7.10"
  }
 },
 "nbformat": 4,
 "nbformat_minor": 0
}
